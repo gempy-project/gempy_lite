{
 "cells": [
  {
   "cell_type": "markdown",
   "metadata": {},
   "source": [
    "## Chapter 1.6: Creating models from scratch\n",
    "***\n",
    "So far we have shown the basics to create geological models by importing data from an external source (in especial GeoModeller 3D). In this chapter, we will explore the option available in GemPy to create the data directly in GemPy or to modify existing one. In this respect we will delve into the pandas DataFrames that contain the necessary data.\n",
    "\n",
    "\n",
    "\n",
    "In this example we will make use of the library qgrid. From its documentation :\n",
    "\n",
    "> Qgrid is a Jupyter notebook widget which uses SlickGrid to render pandas DataFrames within a Jupyter notebook. This allows you to explore your DataFrames with intuitive scrolling, sorting, and filtering controls, as well as edit your DataFrames by double clicking cells.\n",
    "\n",
    "In practice these library allows us to use `pandas.DataFrames` in Jupyter Notebooks as an excel table. Be aware that `Qgrid` requires of enabling nbextensions so it is important to test that the installation (https://github.com/quantopian/qgrid) was successful before trying to execute the rest of the notebook.\n",
    "\n",
    "Let's create a bit of default data:\n",
    "\n",
    "Let's start as always by importing the necessary dependencies:"
   ]
  },
  {
   "cell_type": "code",
   "execution_count": 1,
   "metadata": {
    "ExecuteTime": {
     "end_time": "2020-04-15T10:42:47.256800Z",
     "start_time": "2020-04-15T10:42:45.542463Z"
    }
   },
   "outputs": [],
   "source": [
    "# Importing gempy\n",
    "import gempy as gp\n",
    "\n",
    "# Embedding matplotlib figures into the notebooks\n",
    "#%matplotlib inline\n",
    "\n",
    "\n",
    "# Aux imports\n",
    "import numpy as np\n",
    "import pandas as pn\n",
    "import matplotlib.pyplot as plt\n",
    "import theano\n",
    "import qgrid"
   ]
  },
  {
   "cell_type": "code",
   "execution_count": 2,
   "metadata": {
    "ExecuteTime": {
     "end_time": "2020-04-15T10:42:47.768798Z",
     "start_time": "2020-04-15T10:42:47.260374Z"
    }
   },
   "outputs": [
    {
     "name": "stdout",
     "output_type": "stream",
     "text": [
      "Active grids: ['regular']\n"
     ]
    },
    {
     "data": {
      "text/html": [
       "<table border=\"1\" class=\"dataframe\">\n",
       "  <thead>\n",
       "    <tr style=\"text-align: right;\">\n",
       "      <th></th>\n",
       "      <th>X</th>\n",
       "      <th>Y</th>\n",
       "      <th>Z</th>\n",
       "      <th>smooth</th>\n",
       "      <th>surface</th>\n",
       "    </tr>\n",
       "  </thead>\n",
       "  <tbody>\n",
       "    <tr>\n",
       "      <th>0</th>\n",
       "      <td>400.0</td>\n",
       "      <td>300.0</td>\n",
       "      <td>-500.0</td>\n",
       "      <td>0.000001</td>\n",
       "      <td>surface1</td>\n",
       "    </tr>\n",
       "    <tr>\n",
       "      <th>1</th>\n",
       "      <td>600.0</td>\n",
       "      <td>300.0</td>\n",
       "      <td>-500.0</td>\n",
       "      <td>0.000001</td>\n",
       "      <td>surface1</td>\n",
       "    </tr>\n",
       "  </tbody>\n",
       "</table>"
      ],
      "text/plain": [
       "       X      Y      Z    smooth   surface\n",
       "0  400.0  300.0 -500.0  0.000001  surface1\n",
       "1  600.0  300.0 -500.0  0.000001  surface1"
      ]
     },
     "execution_count": 2,
     "metadata": {},
     "output_type": "execute_result"
    }
   ],
   "source": [
    "geo_model = gp.create_model('Tutorial_ch1-6_CreatingModels')\n",
    "gp.init_data(geo_model, [0, 1000, 0, 1000, -1000, 0], [50, 50, 50])\n",
    "geo_model.set_default_surfaces()\n",
    "geo_model.set_default_orientation()\n",
    "geo_model.add_surface_points(400, 300, -500, 'surface1')\n",
    "geo_model.add_surface_points(600, 300, -500, 'surface1')\n"
   ]
  },
  {
   "cell_type": "markdown",
   "metadata": {},
   "source": [
    "Some default values but to make the model a bit faster but they are not necessary:"
   ]
  },
  {
   "cell_type": "code",
   "execution_count": 3,
   "metadata": {
    "ExecuteTime": {
     "end_time": "2020-04-15T10:42:58.363950Z",
     "start_time": "2020-04-15T10:42:47.769798Z"
    }
   },
   "outputs": [
    {
     "name": "stdout",
     "output_type": "stream",
     "text": [
      "Setting kriging parameters to their default values.\n",
      "Compiling theano function...\n",
      "Level of Optimization:  fast_run\n",
      "Device:  cpu\n",
      "Precision:  float64\n",
      "Number of faults:  0\n",
      "Compilation Done!\n",
      "Kriging values: \n",
      "                   values\n",
      "range            1732.05\n",
      "$C_o$            71428.6\n",
      "drift equations      [3]\n"
     ]
    },
    {
     "data": {
      "text/plain": [
       "<gempy.core.interpolator.InterpolatorModel at 0x257f226ceb8>"
      ]
     },
     "execution_count": 3,
     "metadata": {},
     "output_type": "execute_result"
    }
   ],
   "source": [
    "gp.set_interpolator(geo_model, theano_optimizer='fast_run',  verbose=[])"
   ]
  },
  {
   "cell_type": "code",
   "execution_count": 4,
   "metadata": {
    "ExecuteTime": {
     "end_time": "2020-04-15T10:42:58.379951Z",
     "start_time": "2020-04-15T10:42:58.364950Z"
    }
   },
   "outputs": [
    {
     "data": {
      "text/html": [
       "<table border=\"1\" class=\"dataframe\">\n",
       "  <thead>\n",
       "    <tr style=\"text-align: right;\">\n",
       "      <th></th>\n",
       "      <th></th>\n",
       "      <th>values</th>\n",
       "    </tr>\n",
       "  </thead>\n",
       "  <tbody>\n",
       "    <tr>\n",
       "      <th rowspan=\"9\" valign=\"top\">Structure</th>\n",
       "      <th>isLith</th>\n",
       "      <td>True</td>\n",
       "    </tr>\n",
       "    <tr>\n",
       "      <th>isFault</th>\n",
       "      <td>False</td>\n",
       "    </tr>\n",
       "    <tr>\n",
       "      <th>number faults</th>\n",
       "      <td>0</td>\n",
       "    </tr>\n",
       "    <tr>\n",
       "      <th>number surfaces</th>\n",
       "      <td>1</td>\n",
       "    </tr>\n",
       "    <tr>\n",
       "      <th>number series</th>\n",
       "      <td>1</td>\n",
       "    </tr>\n",
       "    <tr>\n",
       "      <th>number surfaces per series</th>\n",
       "      <td>[1]</td>\n",
       "    </tr>\n",
       "    <tr>\n",
       "      <th>len surfaces surface_points</th>\n",
       "      <td>[2]</td>\n",
       "    </tr>\n",
       "    <tr>\n",
       "      <th>len series surface_points</th>\n",
       "      <td>[2]</td>\n",
       "    </tr>\n",
       "    <tr>\n",
       "      <th>len series orientations</th>\n",
       "      <td>[1]</td>\n",
       "    </tr>\n",
       "    <tr>\n",
       "      <th rowspan=\"5\" valign=\"top\">Options</th>\n",
       "      <th>dtype</th>\n",
       "      <td>float64</td>\n",
       "    </tr>\n",
       "    <tr>\n",
       "      <th>output</th>\n",
       "      <td>geology</td>\n",
       "    </tr>\n",
       "    <tr>\n",
       "      <th>theano_optimizer</th>\n",
       "      <td>fast_run</td>\n",
       "    </tr>\n",
       "    <tr>\n",
       "      <th>device</th>\n",
       "      <td>cpu</td>\n",
       "    </tr>\n",
       "    <tr>\n",
       "      <th>verbosity</th>\n",
       "      <td>[]</td>\n",
       "    </tr>\n",
       "    <tr>\n",
       "      <th rowspan=\"3\" valign=\"top\">Kriging</th>\n",
       "      <th>range</th>\n",
       "      <td>1732.05</td>\n",
       "    </tr>\n",
       "    <tr>\n",
       "      <th>$C_o$</th>\n",
       "      <td>71428.6</td>\n",
       "    </tr>\n",
       "    <tr>\n",
       "      <th>drift equations</th>\n",
       "      <td>[3]</td>\n",
       "    </tr>\n",
       "    <tr>\n",
       "      <th rowspan=\"2\" valign=\"top\">Rescaling</th>\n",
       "      <th>rescaling factor</th>\n",
       "      <td>1200</td>\n",
       "    </tr>\n",
       "    <tr>\n",
       "      <th>centers</th>\n",
       "      <td>[300.000005, 150.000005, -249.999995]</td>\n",
       "    </tr>\n",
       "  </tbody>\n",
       "</table>"
      ],
      "text/plain": [
       "                                                                      values\n",
       "Structure isLith                                                        True\n",
       "          isFault                                                      False\n",
       "          number faults                                                    0\n",
       "          number surfaces                                                  1\n",
       "          number series                                                    1\n",
       "          number surfaces per series                                     [1]\n",
       "          len surfaces surface_points                                    [2]\n",
       "          len series surface_points                                      [2]\n",
       "          len series orientations                                        [1]\n",
       "Options   dtype                                                      float64\n",
       "          output                                                     geology\n",
       "          theano_optimizer                                          fast_run\n",
       "          device                                                         cpu\n",
       "          verbosity                                                       []\n",
       "Kriging   range                                                      1732.05\n",
       "          $C_o$                                                      71428.6\n",
       "          drift equations                                                [3]\n",
       "Rescaling rescaling factor                                              1200\n",
       "          centers                      [300.000005, 150.000005, -249.999995]"
      ]
     },
     "execution_count": 4,
     "metadata": {},
     "output_type": "execute_result"
    }
   ],
   "source": [
    "geo_model.additional_data"
   ]
  },
  {
   "cell_type": "code",
   "execution_count": 5,
   "metadata": {
    "ExecuteTime": {
     "end_time": "2020-04-15T10:42:58.521950Z",
     "start_time": "2020-04-15T10:42:58.380952Z"
    },
    "scrolled": true
   },
   "outputs": [
    {
     "data": {
      "text/plain": [
       "\n",
       "Lithology ids \n",
       "  [2. 2. 2. ... 1. 1. 1.] "
      ]
     },
     "execution_count": 5,
     "metadata": {},
     "output_type": "execute_result"
    }
   ],
   "source": [
    "gp.compute_model(geo_model, debug=False,compute_mesh=False, sort_surfaces=False)"
   ]
  },
  {
   "cell_type": "code",
   "execution_count": 6,
   "metadata": {
    "ExecuteTime": {
     "end_time": "2020-04-15T10:42:58.658951Z",
     "start_time": "2020-04-15T10:42:58.522951Z"
    }
   },
   "outputs": [
    {
     "name": "stderr",
     "output_type": "stream",
     "text": [
      "i:\\pycharmprojects\\gempy\\gempy\\plot\\plot_api.py:261: UserWarning: Matplotlib is currently using module://ipykernel.pylab.backend_inline, which is a non-GUI backend, so cannot show the figure.\n",
      "  p.fig.show()\n"
     ]
    },
    {
     "data": {
      "text/plain": [
       "<gempy.plot.visualization_2d.Plot2D at 0x25797fbb2e8>"
      ]
     },
     "execution_count": 6,
     "metadata": {},
     "output_type": "execute_result"
    },
    {
     "data": {
      "image/png": "[encoded data removed]",
      "text/plain": [
       "<Figure size 748.8x514.8 with 1 Axes>"
      ]
     },
     "metadata": {},
     "output_type": "display_data"
    }
   ],
   "source": [
    "gp.plot_2d(geo_model, cell_number=25,\n",
    "           direction='y', show_data=True)\n"
   ]
  },
  {
   "cell_type": "code",
   "execution_count": 7,
   "metadata": {
    "ExecuteTime": {
     "end_time": "2020-04-15T10:42:58.789950Z",
     "start_time": "2020-04-15T10:42:58.659950Z"
    }
   },
   "outputs": [
    {
     "data": {
      "text/plain": [
       "<gempy.plot.visualization_2d.Plot2D at 0x257976ee860>"
      ]
     },
     "execution_count": 7,
     "metadata": {},
     "output_type": "execute_result"
    },
    {
     "data": {
      "image/png": "[encoded data removed]",
      "text/plain": [
       "<Figure size 748.8x514.8 with 1 Axes>"
      ]
     },
     "metadata": {},
     "output_type": "display_data"
    }
   ],
   "source": [
    "gp.plot_2d(geo_model, cell_number= 25, direction='y', series_n=0, show_scalar=True)"
   ]
  },
  {
   "cell_type": "code",
   "execution_count": 8,
   "metadata": {
    "ExecuteTime": {
     "end_time": "2020-04-15T10:42:58.853950Z",
     "start_time": "2020-04-15T10:42:58.790950Z"
    }
   },
   "outputs": [],
   "source": [
    "vtk_object = gp.plot_3d(geo_model, plotter_type='background')"
   ]
  },
  {
   "cell_type": "code",
   "execution_count": 9,
   "metadata": {
    "ExecuteTime": {
     "end_time": "2020-04-15T10:42:58.856950Z",
     "start_time": "2020-04-15T10:42:58.854950Z"
    }
   },
   "outputs": [
    {
     "data": {
      "text/plain": [
       "True"
      ]
     },
     "execution_count": 9,
     "metadata": {},
     "output_type": "execute_result"
    }
   ],
   "source": [
    "vtk_object.toggle_live_updating()"
   ]
  },
  {
   "cell_type": "code",
   "execution_count": 10,
   "metadata": {},
   "outputs": [
    {
     "data": {
      "text/html": [
       "<style  type=\"text/css\" >\n",
       "    #T_f6dfee22_9911_11ea_a41e_5cf370744477row0_col3 {\n",
       "            background-color:  #015482;\n",
       "        }    #T_f6dfee22_9911_11ea_a41e_5cf370744477row1_col3 {\n",
       "            background-color:  #9f0052;\n",
       "        }</style><table id=\"T_f6dfee22_9911_11ea_a41e_5cf370744477\" ><thead>    <tr>        <th class=\"blank level0\" ></th>        <th class=\"col_heading level0 col0\" >surface</th>        <th class=\"col_heading level0 col1\" >series</th>        <th class=\"col_heading level0 col2\" >order_surfaces</th>        <th class=\"col_heading level0 col3\" >color</th>        <th class=\"col_heading level0 col4\" >id</th>    </tr></thead><tbody>\n",
       "                <tr>\n",
       "                        <th id=\"T_f6dfee22_9911_11ea_a41e_5cf370744477level0_row0\" class=\"row_heading level0 row0\" >0</th>\n",
       "                        <td id=\"T_f6dfee22_9911_11ea_a41e_5cf370744477row0_col0\" class=\"data row0 col0\" >surface1</td>\n",
       "                        <td id=\"T_f6dfee22_9911_11ea_a41e_5cf370744477row0_col1\" class=\"data row0 col1\" >Default series</td>\n",
       "                        <td id=\"T_f6dfee22_9911_11ea_a41e_5cf370744477row0_col2\" class=\"data row0 col2\" >1</td>\n",
       "                        <td id=\"T_f6dfee22_9911_11ea_a41e_5cf370744477row0_col3\" class=\"data row0 col3\" >#015482</td>\n",
       "                        <td id=\"T_f6dfee22_9911_11ea_a41e_5cf370744477row0_col4\" class=\"data row0 col4\" >1</td>\n",
       "            </tr>\n",
       "            <tr>\n",
       "                        <th id=\"T_f6dfee22_9911_11ea_a41e_5cf370744477level0_row1\" class=\"row_heading level0 row1\" >1</th>\n",
       "                        <td id=\"T_f6dfee22_9911_11ea_a41e_5cf370744477row1_col0\" class=\"data row1 col0\" >surface2</td>\n",
       "                        <td id=\"T_f6dfee22_9911_11ea_a41e_5cf370744477row1_col1\" class=\"data row1 col1\" >Default series</td>\n",
       "                        <td id=\"T_f6dfee22_9911_11ea_a41e_5cf370744477row1_col2\" class=\"data row1 col2\" >2</td>\n",
       "                        <td id=\"T_f6dfee22_9911_11ea_a41e_5cf370744477row1_col3\" class=\"data row1 col3\" >#9f0052</td>\n",
       "                        <td id=\"T_f6dfee22_9911_11ea_a41e_5cf370744477row1_col4\" class=\"data row1 col4\" >2</td>\n",
       "            </tr>\n",
       "    </tbody></table>"
      ],
      "text/plain": [
       "    surface          series  order_surfaces    color  id\n",
       "0  surface1  Default series               1  #015482   1\n",
       "1  surface2  Default series               2  #9f0052   2"
      ]
     },
     "execution_count": 10,
     "metadata": {},
     "output_type": "execute_result"
    }
   ],
   "source": [
    "geo_model.surfaces"
   ]
  },
  {
   "cell_type": "code",
   "execution_count": 11,
   "metadata": {
    "ExecuteTime": {
     "end_time": "2020-04-15T10:42:59.065951Z",
     "start_time": "2020-04-15T10:42:58.857951Z"
    }
   },
   "outputs": [
    {
     "data": {
      "text/html": [
       "<table border=\"1\" class=\"dataframe\">\n",
       "  <thead>\n",
       "    <tr style=\"text-align: right;\">\n",
       "      <th></th>\n",
       "      <th>X</th>\n",
       "      <th>Y</th>\n",
       "      <th>Z</th>\n",
       "      <th>smooth</th>\n",
       "      <th>surface</th>\n",
       "    </tr>\n",
       "  </thead>\n",
       "  <tbody>\n",
       "    <tr>\n",
       "      <th>0</th>\n",
       "      <td>400.0</td>\n",
       "      <td>300.0</td>\n",
       "      <td>-300.0</td>\n",
       "      <td>0.000001</td>\n",
       "      <td>surface1</td>\n",
       "    </tr>\n",
       "    <tr>\n",
       "      <th>1</th>\n",
       "      <td>600.0</td>\n",
       "      <td>300.0</td>\n",
       "      <td>-500.0</td>\n",
       "      <td>0.000001</td>\n",
       "      <td>surface1</td>\n",
       "    </tr>\n",
       "  </tbody>\n",
       "</table>"
      ],
      "text/plain": [
       "       X      Y      Z    smooth   surface\n",
       "0  400.0  300.0 -300.0  0.000001  surface1\n",
       "1  600.0  300.0 -500.0  0.000001  surface1"
      ]
     },
     "execution_count": 11,
     "metadata": {},
     "output_type": "execute_result"
    }
   ],
   "source": [
    "geo_model.modify_surface_points(0, Z=-300, plot_object=vtk_object)"
   ]
  },
  {
   "cell_type": "code",
   "execution_count": 12,
   "metadata": {},
   "outputs": [
    {
     "data": {
      "text/html": [
       "<table border=\"1\" class=\"dataframe\">\n",
       "  <thead>\n",
       "    <tr style=\"text-align: right;\">\n",
       "      <th></th>\n",
       "      <th>X</th>\n",
       "      <th>Y</th>\n",
       "      <th>Z</th>\n",
       "      <th>G_x</th>\n",
       "      <th>G_y</th>\n",
       "      <th>G_z</th>\n",
       "      <th>smooth</th>\n",
       "      <th>surface</th>\n",
       "    </tr>\n",
       "  </thead>\n",
       "  <tbody>\n",
       "    <tr>\n",
       "      <th>0</th>\n",
       "      <td>0.00001</td>\n",
       "      <td>0.00001</td>\n",
       "      <td>0.00001</td>\n",
       "      <td>0.0</td>\n",
       "      <td>0.0</td>\n",
       "      <td>1.0</td>\n",
       "      <td>0.01</td>\n",
       "      <td>surface1</td>\n",
       "    </tr>\n",
       "    <tr>\n",
       "      <th>1</th>\n",
       "      <td>1.00000</td>\n",
       "      <td>1.00000</td>\n",
       "      <td>1.00000</td>\n",
       "      <td>1.0</td>\n",
       "      <td>1.0</td>\n",
       "      <td>1.0</td>\n",
       "      <td>0.01</td>\n",
       "      <td>surface1</td>\n",
       "    </tr>\n",
       "  </tbody>\n",
       "</table>"
      ],
      "text/plain": [
       "         X        Y        Z  G_x  G_y  G_z  smooth   surface\n",
       "0  0.00001  0.00001  0.00001  0.0  0.0  1.0    0.01  surface1\n",
       "1  1.00000  1.00000  1.00000  1.0  1.0  1.0    0.01  surface1"
      ]
     },
     "execution_count": 12,
     "metadata": {},
     "output_type": "execute_result"
    }
   ],
   "source": [
    "geo_model.add_orientations(1,1,1, 'surface1', pole_vector=(1,1,1), plot_object=vtk_object)"
   ]
  },
  {
   "cell_type": "markdown",
   "metadata": {},
   "source": [
    "## Passing the vtk object to qgrid"
   ]
  },
  {
   "cell_type": "code",
   "execution_count": 13,
   "metadata": {
    "ExecuteTime": {
     "end_time": "2020-04-15T10:42:59.208951Z",
     "start_time": "2020-04-15T10:42:59.066951Z"
    },
    "scrolled": false
   },
   "outputs": [
    {
     "data": {
      "text/plain": [
       "<gempy.core.qgrid_integration.QgridModelIntegration at 0x25796b9e470>"
      ]
     },
     "execution_count": 13,
     "metadata": {},
     "output_type": "execute_result"
    }
   ],
   "source": [
    "gp.activate_interactive_df(geo_model, vtk_object)"
   ]
  },
  {
   "cell_type": "markdown",
   "metadata": {},
   "source": [
    "It is important to get df with get to update the models sinde the `activate_interactive` method is called"
   ]
  },
  {
   "cell_type": "code",
   "execution_count": 14,
   "metadata": {
    "ExecuteTime": {
     "end_time": "2020-04-15T10:42:59.224950Z",
     "start_time": "2020-04-15T10:42:59.209951Z"
    }
   },
   "outputs": [
    {
     "data": {
      "application/vnd.jupyter.widget-view+json": {
       "model_id": "499ed3228adc47c39b96d15fcdb64f11",
       "version_major": 2,
       "version_minor": 0
      },
      "text/plain": [
       "QgridWidget(grid_options={'fullWidthRows': True, 'syncColumnCellResize': True, 'forceFitColumns': True, 'defau…"
      ]
     },
     "metadata": {},
     "output_type": "display_data"
    },
    {
     "name": "stderr",
     "output_type": "stream",
     "text": [
      "i:\\pycharmprojects\\gempy\\gempy\\core\\solution.py:315: UserWarning: Surfaces not computed due to: No surface found at the given iso value.. The surface is: Series: No surface found at the given iso value.; Surface Number:1\n",
      "  '; Surface Number:' + str(s_n))\n"
     ]
    }
   ],
   "source": [
    "geo_model.qi.get('orientations')"
   ]
  },
  {
   "cell_type": "code",
   "execution_count": 15,
   "metadata": {
    "ExecuteTime": {
     "end_time": "2020-04-15T10:42:59.239950Z",
     "start_time": "2020-04-15T10:42:59.224950Z"
    },
    "scrolled": true
   },
   "outputs": [
    {
     "data": {
      "application/vnd.jupyter.widget-view+json": {
       "model_id": "bed08b004c094e15aae01c85810053b9",
       "version_major": 2,
       "version_minor": 0
      },
      "text/plain": [
       "QgridWidget(grid_options={'fullWidthRows': True, 'syncColumnCellResize': True, 'forceFitColumns': True, 'defau…"
      ]
     },
     "metadata": {},
     "output_type": "display_data"
    },
    {
     "name": "stdout",
     "output_type": "stream",
     "text": [
      "AssertionError: Model not computed. Laking data in some surface\n"
     ]
    },
    {
     "name": "stderr",
     "output_type": "stream",
     "text": [
      "WARNING:root:Encountered issue in callback: Input dimension mis-match. (input[0].shape[1] = 0, input[1].shape[1] = 1)\n",
      "Apply node that caused the error: Elemwise{sub,no_inplace}(Subtensor{::, int64:int64:}.0, Subtensor{::, int64:int64:}.0)\n",
      "Toposort index: 111\n",
      "Inputs types: [TensorType(float64, matrix), TensorType(float64, matrix)]\n",
      "Inputs shapes: [(0, 0), (0, 1)]\n",
      "Inputs strides: [(1000016, 8), (1000016, 8)]\n",
      "Inputs values: [array([], shape=(0, 0), dtype=float64), array([], shape=(0, 1), dtype=float64)]\n",
      "Inputs type_num: [12, 12]\n",
      "Outputs clients: [[Elemwise{add,no_inplace}(Elemwise{sub,no_inplace}.0, TensorConstant{(1, 1) of 0.0001})]]\n",
      "\n",
      "Backtrace when the node is created(use Theano flag traceback.limit=N to make it longer):\n",
      "  File \"i:\\pycharmprojects\\gempy\\gempy\\core\\interpolator.py\", line 1027, in compile_th_fn_geo\n",
      "    self.theano_graph.theano_output(),\n",
      "  File \"i:\\pycharmprojects\\gempy\\gempy\\core\\theano_modules\\theano_graph_pro.py\", line 558, in theano_output\n",
      "    solutions[:9] = self.compute_series()\n",
      "  File \"i:\\pycharmprojects\\gempy\\gempy\\core\\theano_modules\\theano_graph_pro.py\", line 432, in compute_series\n",
      "    profile=False\n",
      "  File \"C:\\Users\\legui\\miniconda3\\envs\\gp-dev\\lib\\site-packages\\theano\\scan_module\\scan.py\", line 774, in scan\n",
      "    condition, outputs, updates = scan_utils.get_updates_and_outputs(fn(*args))\n",
      "  File \"i:\\pycharmprojects\\gempy\\gempy\\core\\theano_modules\\theano_graph_pro.py\", line 1881, in compute_a_series\n",
      "    self.solve_kriging(b),\n",
      "  File \"i:\\pycharmprojects\\gempy\\gempy\\core\\theano_modules\\theano_graph_pro.py\", line 1188, in solve_kriging\n",
      "    C_matrix = self.covariance_matrix()\n",
      "  File \"i:\\pycharmprojects\\gempy\\gempy\\core\\theano_modules\\theano_graph_pro.py\", line 1090, in covariance_matrix\n",
      "    F_I, F_G = self.faults_matrix()\n",
      "  File \"i:\\pycharmprojects\\gempy\\gempy\\core\\theano_modules\\theano_graph_pro.py\", line 1063, in faults_matrix\n",
      "    F_I = (self.fault_drift_at_surface_points_ref - self.fault_drift_at_surface_points_rest) + 0.0001\n",
      "\n",
      "Debugprint of the apply node: \n",
      "Elemwise{sub,no_inplace} [id A] <TensorType(float64, matrix)> ''   \n",
      " |Subtensor{::, int64:int64:} [id B] <TensorType(float64, matrix)> ''   \n",
      " | |Elemwise{mul,no_inplace} [id C] <TensorType(float64, matrix)> ''   \n",
      " | | |AdvancedSubtensor [id D] <TensorType(float64, matrix)> ''   \n",
      " | | | |<TensorType(float64, 3D)> [id E] <TensorType(float64, 3D)>\n",
      " | | | |Subtensor{int64} [id F] <TensorType(int64, vector)> ''   \n",
      " | | | | |Nonzero [id G] <TensorType(int64, matrix)> ''   \n",
      " | | | | | |Elemwise{Cast{int8}} [id H] <TensorType(int8, vector)> ''   \n",
      " | | | | |   |Subtensor{::, int8} [id I] <TensorType(int32, vector)> ''   \n",
      " | | | | |     |fault relation matrix_copy [id J] <TensorType(int32, matrix)>\n",
      " | | | | |     |ScalarFromTensor [id K] <int8> ''   \n",
      " | | | | |       |Elemwise{Cast{int8}} [id L] <TensorType(int8, scalar)> ''   \n",
      " | | | | |         |<TensorType(int32, scalar)> [id M] <TensorType(int32, scalar)>\n",
      " | | | | |Constant{0} [id N] <int64>\n",
      " | | | |TensorConstant{0} [id O] <TensorType(int64, scalar)>\n",
      " | | | |MakeSlice [id P] <slice> ''   \n",
      " | | |   |TensorConstant{0} [id Q] <TensorType(int8, scalar)>\n",
      " | | |   |Elemwise{add,no_inplace} [id R] <TensorType(int64, scalar)> ''   \n",
      " | | |   | |Elemwise{add,no_inplace} [id S] <TensorType(int64, scalar)> ''   \n",
      " | | |   | | |Subtensor{int64} [id T] <TensorType(int64, scalar)> ''   \n",
      " | | |   | | | |Shape [id U] <TensorType(int64, vector)> ''   \n",
      " | | |   | | | | |Coordinates of the grid points to interpolate_copy [id V] <TensorType(float64, matrix)>\n",
      " | | |   | | | |Constant{0} [id N] <int64>\n",
      " | | |   | | |Elemwise{mul,no_inplace} [id W] <TensorType(int64, scalar)> ''   \n",
      " | | |   | |   |TensorConstant{2} [id X] <TensorType(int8, scalar)>\n",
      " | | |   | |   |Elemwise{sub,no_inplace} [id Y] <TensorType(int64, scalar)> ''   \n",
      " | | |   | |     |Subtensor{int64} [id Z] <TensorType(int64, scalar)> ''   \n",
      " | | |   | |     | |Shape [id BA] <TensorType(int64, vector)> ''   \n",
      " | | |   | |     | | |All the surface_points points at once_copy [id BB] <TensorType(float64, matrix)>\n",
      " | | |   | |     | |Constant{0} [id N] <int64>\n",
      " | | |   | |     |Subtensor{int64} [id BC] <TensorType(int64, scalar)> ''   \n",
      " | | |   | |       |Shape [id BD] <TensorType(int64, vector)> ''   \n",
      " | | |   | |       | |Number of points per surface used to split rest-ref_copy [id BE] <TensorType(int32, vector)>\n",
      " | | |   | |       |Constant{0} [id N] <int64>\n",
      " | | |   | |TensorConstant{0} [id Q] <TensorType(int8, scalar)>\n",
      " | | |   |NoneConst [id BF] <NoneTypeT>\n",
      " | | |InplaceDimShuffle{x,x} [id BG] <TensorType(float64, (True, True))> ''   \n",
      " | |   |<TensorType(float64, scalar)> [id BH] <TensorType(float64, scalar)>\n",
      " | |ScalarFromTensor [id BI] <int64> ''   \n",
      " | | |Elemwise{add,no_inplace} [id BJ] <TensorType(int64, scalar)> ''   \n",
      " | |   |Elemwise{add,no_inplace} [id BK] <TensorType(int64, scalar)> ''   \n",
      " | |   | |Subtensor{int64} [id T] <TensorType(int64, scalar)> ''   \n",
      " | |   | |Elemwise{sub,no_inplace} [id Y] <TensorType(int64, scalar)> ''   \n",
      " | |   |Length of surface_points in every series[t] [id BL] <TensorType(int32, scalar)>\n",
      " | |ScalarFromTensor [id BM] <int64> ''   \n",
      " |   |Elemwise{add,no_inplace} [id BN] <TensorType(int64, scalar)> ''   \n",
      " |     |Elemwise{add,no_inplace} [id BK] <TensorType(int64, scalar)> ''   \n",
      " |     |Length of surface_points in every series[t+1] [id BO] <TensorType(int32, scalar)>\n",
      " |Subtensor{::, int64:int64:} [id BP] <TensorType(float64, matrix)> ''   \n",
      "   |Elemwise{mul,no_inplace} [id C] <TensorType(float64, matrix)> ''   \n",
      "   |ScalarFromTensor [id BQ] <int64> ''   \n",
      "   | |Elemwise{add,no_inplace} [id BR] <TensorType(int64, scalar)> ''   \n",
      "   |   |Subtensor{int64} [id T] <TensorType(int64, scalar)> ''   \n",
      "   |   |Length of surface_points in every series[t] [id BL] <TensorType(int32, scalar)>\n",
      "   |ScalarFromTensor [id BS] <int64> ''   \n",
      "     |Elemwise{add,no_inplace} [id BT] <TensorType(int64, scalar)> ''   \n",
      "       |Subtensor{int64} [id T] <TensorType(int64, scalar)> ''   \n",
      "       |Length of surface_points in every series[t+1] [id BO] <TensorType(int32, scalar)>\n",
      "\n",
      "HINT: Use the Theano flag 'exception_verbosity=high' for a debugprint and storage map footprint of this apply node.\n",
      "Apply node that caused the error: for{cpu,Looping}(Elemwise{minimum,no_inplace}.0, Subtensor{:int64:}.0, Subtensor{:int64:}.0, Subtensor{:int64:}.0, Subtensor{:int64:}.0, Subtensor{:int64:}.0, Subtensor{:int64:}.0, Subtensor{:int64:}.0, Subtensor{:int64:}.0, Subtensor{:int64:}.0, Subtensor{:int64:}.0, Subtensor{:int64:}.0, Subtensor{:int64:}.0, Subtensor{:int64:}.0, Subtensor{:int64:}.0, Subtensor{:int64:}.0, Subtensor{:int64:}.0, IncSubtensor{Set;:int64:}.0, IncSubtensor{Set;:int64:}.0, IncSubtensor{Set;:int64:}.0, IncSubtensor{Set;:int64:}.0, IncSubtensor{Set;:int64:}.0, IncSubtensor{Set;:int64:}.0, IncSubtensor{Set;:int64:}.0, IncSubtensor{Set;:int64:}.0, Number of points per surface used to split rest-ref, fault relation matrix, <TensorType(float64, scalar)>, <TensorType(float64, scalar)>, Range, Covariance at 0, <TensorType(float64, scalar)>, Nugget effect of gradients, Nugget effect of scalar, Attenuation factor, Sigmoid Outside, Sigmoid slope, <TensorType(int32, vector)>, <TensorType(bool, vector)>, <TensorType(int32, vector)>, Coordinates of the grid points to interpolate, All the surface_points points at once, Position of the dips, Angle of every dip, Azimuth, Polarity, Values that the blocks are taking)\n",
      "Toposort index: 157\n",
      "Inputs types: [TensorType(int64, scalar), TensorType(int32, vector), TensorType(int32, vector), TensorType(int32, vector), TensorType(int32, vector), TensorType(int32, vector), TensorType(int32, vector), TensorType(int32, vector), TensorType(int32, vector), TensorType(int32, vector), TensorType(bool, vector), TensorType(bool, vector), TensorType(bool, vector), TensorType(int32, vector), TensorType(int32, vector), TensorType(int32, vector), TensorType(int32, vector), TensorType(float64, 4D), TensorType(float64, matrix), TensorType(float64, 3D), TensorType(float64, 3D), TensorType(bool, 3D), TensorType(bool, 3D), TensorType(float64, 4D), TensorType(int64, vector), TensorType(int32, vector), TensorType(int32, matrix), TensorType(float64, scalar), TensorType(float64, scalar), TensorType(float64, scalar), TensorType(float64, scalar), TensorType(float64, scalar), TensorType(float64, vector), TensorType(float64, vector), TensorType(float64, scalar), TensorType(float64, scalar), TensorType(float64, scalar), TensorType(int32, vector), TensorType(bool, vector), TensorType(int32, vector), TensorType(float64, matrix), TensorType(float64, matrix), TensorType(float64, matrix), TensorType(float64, vector), TensorType(float64, vector), TensorType(float64, vector), TensorType(float64, matrix)]\n",
      "Inputs shapes: [(), (1,), (1,), (1,), (1,), (1,), (1,), (1,), (1,), (1,), (1,), (1,), (1,), (1,), (1,), (1,), (1,), (2, 1, 1, 125002), (2, 10), (2, 1, 125002), (2, 1, 1), (2, 1, 125002), (2, 1, 125002), (2, 1, 1, 125002), (2,), (2,), (1, 1), (), (), (), (), (), (6,), (4,), (), (), (), (1,), (1,), (1,), (125000, 3), (4, 3), (2, 3), (2,), (2,), (2,), (1, 3)]\n",
      "Inputs strides: [(), (4,), (4,), (4,), (4,), (4,), (4,), (4,), (4,), (4,), (1,), (1,), (1,), (4,), (4,), (4,), (4,), (1000016, 1000016, 1000016, 8), (80, 8), (1000016, 1000016, 8), (8, 8, 8), (125002, 125002, 1), (125002, 125002, 1), (1000016, 1000016, 1000016, 8), (8,), (4,), (4, 4), (), (), (), (), (), (8,), (8,), (), (), (), (4,), (1,), (4,), (24, 8), (8, 32), (8, 16), (8,), (8,), (8,), (24, 8)]\n",
      "Inputs values: [array(1, dtype=int64), array([0]), array([1]), array([0]), array([2]), array([0]), array([10]), array([0]), array([1]), array([3]), array([ True]), array([ True]), array([ True]), array([0]), array([0]), array([0]), array([0]), 'not shown', 'not shown', 'not shown', array([[[0.e+000]],\n",
      "\n",
      "       [[5.e-323]]]), 'not shown', 'not shown', 'not shown', array([ 0, 10], dtype=int64), array([1, 1]), array([[0]]), array(10.), array(2.), array(1.41068677), array(58.17574207), array(4.), 'not shown', array([1.e-06, 1.e-06, 1.e-06, 1.e-06]), array(2.), array(50.), array(50000.), array([0]), array([False]), array([0]), 'not shown', 'not shown', 'not shown', array([0., 0.]), array([0., 0.]), array([1., 1.]), array([[1., 2., 3.]])]\n",
      "Inputs type_num: [9, 7, 7, 7, 7, 7, 7, 7, 7, 7, 0, 0, 0, 7, 7, 7, 7, 12, 12, 12, 12, 0, 0, 12, 9, 7, 7, 12, 12, 12, 12, 12, 12, 12, 12, 12, 12, 7, 0, 7, 12, 12, 12, 12, 12, 12, 12]\n",
      "Outputs clients: [[Subtensor{int64::}(for{cpu,Looping}.0, Constant{1})], [Subtensor{int64::}(for{cpu,Looping}.1, Constant{1})], [Subtensor{int64::}(for{cpu,Looping}.2, Constant{1})], [Subtensor{int64::}(for{cpu,Looping}.3, Constant{1})], [Subtensor{int64::}(for{cpu,Looping}.4, Constant{1})], [Subtensor{int64::}(for{cpu,Looping}.5, Constant{1})], [], []]\n",
      "\n",
      "Backtrace when the node is created(use Theano flag traceback.limit=N to make it longer):\n",
      "  File \"C:\\Users\\legui\\miniconda3\\envs\\gp-dev\\lib\\site-packages\\IPython\\core\\interactiveshell.py\", line 3063, in run_cell_async\n",
      "    interactivity=interactivity, compiler=compiler, result=result)\n",
      "  File \"C:\\Users\\legui\\miniconda3\\envs\\gp-dev\\lib\\site-packages\\IPython\\core\\interactiveshell.py\", line 3254, in run_ast_nodes\n",
      "    if (await self.run_code(code, result,  async_=asy)):\n",
      "  File \"C:\\Users\\legui\\miniconda3\\envs\\gp-dev\\lib\\site-packages\\IPython\\core\\interactiveshell.py\", line 3331, in run_code\n",
      "    exec(code_obj, self.user_global_ns, self.user_ns)\n",
      "  File \"<ipython-input-3-4c4b16d0ba3b>\", line 1, in <module>\n",
      "    gp.set_interpolator(geo_model, theano_optimizer='fast_run',  verbose=[])\n",
      "  File \"i:\\pycharmprojects\\gempy\\gempy\\api_modules\\setters.py\", line 108, in set_interpolator\n",
      "    geo_model._interpolator.compile_th_fn_geo(inplace=True, grid=grid)\n",
      "  File \"i:\\pycharmprojects\\gempy\\gempy\\core\\interpolator.py\", line 1027, in compile_th_fn_geo\n",
      "    self.theano_graph.theano_output(),\n",
      "  File \"i:\\pycharmprojects\\gempy\\gempy\\core\\theano_modules\\theano_graph_pro.py\", line 558, in theano_output\n",
      "    solutions[:9] = self.compute_series()\n",
      "  File \"i:\\pycharmprojects\\gempy\\gempy\\core\\theano_modules\\theano_graph_pro.py\", line 432, in compute_series\n",
      "    profile=False\n",
      "\n",
      "Debugprint of the apply node: \n",
      "for{cpu,Looping}.0 [id A] <TensorType(float64, 4D)> ''   \n",
      " |Elemwise{minimum,no_inplace} [id B] <TensorType(int64, scalar)> ''   \n",
      " | |Elemwise{minimum,no_inplace} [id C] <TensorType(int64, scalar)> ''   \n",
      " | | |Elemwise{minimum,no_inplace} [id D] <TensorType(int64, scalar)> ''   \n",
      " | | | |Elemwise{minimum,no_inplace} [id E] <TensorType(int64, scalar)> ''   \n",
      " | | | | |Elemwise{minimum,no_inplace} [id F] <TensorType(int64, scalar)> ''   \n",
      " | | | | | |Elemwise{minimum,no_inplace} [id G] <TensorType(int64, scalar)> ''   \n",
      " | | | | | | |Elemwise{minimum,no_inplace} [id H] <TensorType(int64, scalar)> ''   \n",
      " | | | | | | | |Elemwise{minimum,no_inplace} [id I] <TensorType(int64, scalar)> ''   \n",
      " | | | | | | | | |Elemwise{minimum,no_inplace} [id J] <TensorType(int64, scalar)> ''   \n",
      " | | | | | | | | | |Elemwise{minimum,no_inplace} [id K] <TensorType(int64, scalar)> ''   \n",
      " | | | | | | | | | | |Elemwise{minimum,no_inplace} [id L] <TensorType(int64, scalar)> ''   \n",
      " | | | | | | | | | | | |Elemwise{minimum,no_inplace} [id M] <TensorType(int64, scalar)> ''   \n",
      " | | | | | | | | | | | | |Elemwise{minimum,no_inplace} [id N] <TensorType(int64, scalar)> ''   \n",
      " | | | | | | | | | | | | | |Elemwise{minimum,no_inplace} [id O] <TensorType(int64, scalar)> ''   \n",
      " | | | | | | | | | | | | | | |Elemwise{minimum,no_inplace} [id P] <TensorType(int64, scalar)> ''   \n",
      " | | | | | | | | | | | | | | | |Subtensor{int64} [id Q] <TensorType(int64, scalar)> ''   \n",
      " | | | | | | | | | | | | | | | | |Shape [id R] <TensorType(int64, vector)> ''   \n",
      " | | | | | | | | | | | | | | | | | |Subtensor{int64:int64:} [id S] <TensorType(int32, vector)> 'Length of surface_points in every series[0:-1]'   \n",
      " | | | | | | | | | | | | | | | | |Constant{0} [id T] <int64>\n",
      " | | | | | | | | | | | | | | | |Subtensor{int64} [id U] <TensorType(int64, scalar)> ''   \n",
      " | | | | | | | | | | | | | | |   |Shape [id V] <TensorType(int64, vector)> ''   \n",
      " | | | | | | | | | | | | | | |   | |Subtensor{int64::} [id W] <TensorType(int32, vector)> 'Length of surface_points in every series[1:]'   \n",
      " | | | | | | | | | | | | | | |   |Constant{0} [id T] <int64>\n",
      " | | | | | | | | | | | | | | |Subtensor{int64} [id X] <TensorType(int64, scalar)> ''   \n",
      " | | | | | | | | | | | | | |   |Shape [id Y] <TensorType(int64, vector)> ''   \n",
      " | | | | | | | | | | | | | |   | |Subtensor{int64:int64:} [id Z] <TensorType(int32, vector)> 'Length of foliations in every series[0:-1]'   \n",
      " | | | | | | | | | | | | | |   |Constant{0} [id T] <int64>\n",
      " | | | | | | | | | | | | | |Subtensor{int64} [id BA] <TensorType(int64, scalar)> ''   \n",
      " | | | | | | | | | | | | |   |Shape [id BB] <TensorType(int64, vector)> ''   \n",
      " | | | | | | | | | | | | |   | |Subtensor{int64::} [id BC] <TensorType(int32, vector)> 'Length of foliations in every series[1:]'   \n",
      " | | | | | | | | | | | | |   |Constant{0} [id T] <int64>\n",
      " | | | | | | | | | | | | |Subtensor{int64} [id BD] <TensorType(int64, scalar)> ''   \n",
      " | | | | | | | | | | | |   |Shape [id BE] <TensorType(int64, vector)> ''   \n",
      " | | | | | | | | | | | |   | |Subtensor{int64:int64:} [id BF] <TensorType(int32, vector)> 'Length of weights in every series[0:-1]'   \n",
      " | | | | | | | | | | | |   |Constant{0} [id T] <int64>\n",
      " | | | | | | | | | | | |Subtensor{int64} [id BG] <TensorType(int64, scalar)> ''   \n",
      " | | | | | | | | | | |   |Shape [id BH] <TensorType(int64, vector)> ''   \n",
      " | | | | | | | | | | |   | |Subtensor{int64::} [id BI] <TensorType(int32, vector)> 'Length of weights in every series[1:]'   \n",
      " | | | | | | | | | | |   |Constant{0} [id T] <int64>\n",
      " | | | | | | | | | | |Subtensor{int64} [id BJ] <TensorType(int64, scalar)> ''   \n",
      " | | | | | | | | | |   |Shape [id BK] <TensorType(int64, vector)> ''   \n",
      " | | | | | | | | | |   | |Subtensor{int64:int64:} [id BL] <TensorType(int32, vector)> 'List with the number of surfaces[0:-1]'   \n",
      " | | | | | | | | | |   |Constant{0} [id T] <int64>\n",
      " | | | | | | | | | |Subtensor{int64} [id BM] <TensorType(int64, scalar)> ''   \n",
      " | | | | | | | | |   |Shape [id BN] <TensorType(int64, vector)> ''   \n",
      " | | | | | | | | |   | |Subtensor{int64::} [id BO] <TensorType(int32, vector)> 'List with the number of surfaces[1:]'   \n",
      " | | | | | | | | |   |Constant{0} [id T] <int64>\n",
      " | | | | | | | | |Subtensor{int64} [id BP] <TensorType(int64, scalar)> ''   \n",
      " | | | | | | | |   |Shape [id BQ] <TensorType(int64, vector)> ''   \n",
      " | | | | | | | |   | |Subtensor{int64::} [id BR] <TensorType(int32, vector)> 'Grade of the universal drift[0:]'   \n",
      " | | | | | | | |   |Constant{0} [id T] <int64>\n",
      " | | | | | | | |Subtensor{int64} [id BS] <TensorType(int64, scalar)> ''   \n",
      " | | | | | | |   |Shape [id BT] <TensorType(int64, vector)> ''   \n",
      " | | | | | | |   | |Subtensor{int64::} [id BU] <TensorType(bool, vector)> 'Vector controlling if weights must be recomputed[0:]'   \n",
      " | | | | | | |   |Constant{0} [id T] <int64>\n",
      " | | | | | | |Subtensor{int64} [id BV] <TensorType(int64, scalar)> ''   \n",
      " | | | | | |   |Shape [id BW] <TensorType(int64, vector)> ''   \n",
      " | | | | | |   | |Subtensor{int64::} [id BX] <TensorType(bool, vector)> 'Vector controlling if scalar matrix must be recomputed[0:]'   \n",
      " | | | | | |   |Constant{0} [id T] <int64>\n",
      " | | | | | |Subtensor{int64} [id BY] <TensorType(int64, scalar)> ''   \n",
      " | | | | |   |Shape [id BZ] <TensorType(int64, vector)> ''   \n",
      " | | | | |   | |Subtensor{int64::} [id CA] <TensorType(bool, vector)> 'Vector controlling if block matrix must be recomputed[0:]'   \n",
      " | | | | |   |Constant{0} [id T] <int64>\n",
      " | | | | |Subtensor{int64} [id CB] <TensorType(int64, scalar)> ''   \n",
      " | | | |   |Shape [id CC] <TensorType(int64, vector)> ''   \n",
      " | | | |   | |Subtensor{int64::} [id CD] <TensorType(int32, vector)> 'The series (fault) is finite[0:]'   \n",
      " | | | |   |Constant{0} [id T] <int64>\n",
      " | | | |Subtensor{int64} [id CE] <TensorType(int64, scalar)> ''   \n",
      " | | |   |Shape [id CF] <TensorType(int64, vector)> ''   \n",
      " | | |   | |Subtensor{int64::} [id CG] <TensorType(int32, vector)> ''   \n",
      " | | |   |   |<TensorType(int32, vector)> [id CH] <TensorType(int32, vector)>\n",
      " | | |   |   |Constant{0} [id T] <int64>\n",
      " | | |   |Constant{0} [id T] <int64>\n",
      " | | |Subtensor{int64} [id CI] <TensorType(int64, scalar)> ''   \n",
      " | |   |Shape [id CJ] <TensorType(int64, vector)> ''   \n",
      " | |   | |Subtensor{int64::} [id CK] <TensorType(int32, vector)> ''   \n",
      " | |   |   |<TensorType(int32, vector)> [id CL] <TensorType(int32, vector)>\n",
      " | |   |   |Constant{0} [id T] <int64>\n",
      " | |   |Constant{0} [id T] <int64>\n",
      " | |TensorConstant{5000} [id CM] <TensorType(int64, scalar)>\n",
      " |Subtensor{:int64:} [id CN] <TensorType(int32, vector)> ''   \n",
      " | |Subtensor{int64:int64:} [id S] <TensorType(int32, vector)> 'Length of surface_points in every series[0:-1]'   \n",
      " | |ScalarFromTensor [id CO] <int64> ''   \n",
      " |   |Elemwise{minimum,no_inplace} [id B] <TensorType(int64, scalar)> ''   \n",
      " |Subtensor{:int64:} [id CP] <TensorType(int32, vector)> ''   \n",
      " | |Subtensor{int64::} [id W] <TensorType(int32, vector)> 'Length of surface_points in every series[1:]'   \n",
      " | |ScalarFromTensor [id CO] <int64> ''   \n",
      " |Subtensor{:int64:} [id CQ] <TensorType(int32, vector)> ''   \n",
      " | |Subtensor{int64:int64:} [id Z] <TensorType(int32, vector)> 'Length of foliations in every series[0:-1]'   \n",
      " | |ScalarFromTensor [id CO] <int64> ''   \n",
      " |Subtensor{:int64:} [id CR] <TensorType(int32, vector)> ''   \n",
      " | |Subtensor{int64::} [id BC] <TensorType(int32, vector)> 'Length of foliations in every series[1:]'   \n",
      " | |ScalarFromTensor [id CO] <int64> ''   \n",
      " |Subtensor{:int64:} [id CS] <TensorType(int32, vector)> ''   \n",
      " | |Subtensor{int64:int64:} [id BF] <TensorType(int32, vector)> 'Length of weights in every series[0:-1]'   \n",
      " | |ScalarFromTensor [id CO] <int64> ''   \n",
      " |Subtensor{:int64:} [id CT] <TensorType(int32, vector)> ''   \n",
      " | |Subtensor{int64::} [id BI] <TensorType(int32, vector)> 'Length of weights in every series[1:]'   \n",
      " | |ScalarFromTensor [id CO] <int64> ''   \n",
      " |Subtensor{:int64:} [id CU] <TensorType(int32, vector)> ''   \n",
      " | |Subtensor{int64:int64:} [id BL] <TensorType(int32, vector)> 'List with the number of surfaces[0:-1]'   \n",
      " | |ScalarFromTensor [id CO] <int64> ''   \n",
      " |Subtensor{:int64:} [id CV] <TensorType(int32, vector)> ''   \n",
      " | |Subtensor{int64::} [id BO] <TensorType(int32, vector)> 'List with the number of surfaces[1:]'   \n",
      " | |ScalarFromTensor [id CO] <int64> ''   \n",
      " |Subtensor{:int64:} [id CW] <TensorType(int32, vector)> ''   \n",
      " | |Subtensor{int64::} [id BR] <TensorType(int32, vector)> 'Grade of the universal drift[0:]'   \n",
      " | |ScalarFromTensor [id CO] <int64> ''   \n",
      " |Subtensor{:int64:} [id CX] <TensorType(bool, vector)> ''   \n",
      " | |Subtensor{int64::} [id BU] <TensorType(bool, vector)> 'Vector controlling if weights must be recomputed[0:]'   \n",
      " | |ScalarFromTensor [id CO] <int64> ''   \n",
      " |Subtensor{:int64:} [id CY] <TensorType(bool, vector)> ''   \n",
      " | |Subtensor{int64::} [id BX] <TensorType(bool, vector)> 'Vector controlling if scalar matrix must be recomputed[0:]'   \n",
      " | |ScalarFromTensor [id CO] <int64> ''   \n",
      " |Subtensor{:int64:} [id CZ] <TensorType(bool, vector)> ''   \n",
      " | |Subtensor{int64::} [id CA] <TensorType(bool, vector)> 'Vector controlling if block matrix must be recomputed[0:]'   \n",
      " | |ScalarFromTensor [id CO] <int64> ''   \n",
      " |Subtensor{:int64:} [id DA] <TensorType(int32, vector)> ''   \n",
      " | |Subtensor{int64::} [id CD] <TensorType(int32, vector)> 'The series (fault) is finite[0:]'   \n",
      " | |ScalarFromTensor [id CO] <int64> ''   \n",
      " |Subtensor{:int64:} [id DB] <TensorType(int32, vector)> ''   \n",
      " | |Subtensor{int64::} [id CG] <TensorType(int32, vector)> ''   \n",
      " | |ScalarFromTensor [id CO] <int64> ''   \n",
      " |Subtensor{:int64:} [id DC] <TensorType(int32, vector)> ''   \n",
      " | |Subtensor{int64::} [id CK] <TensorType(int32, vector)> ''   \n",
      " | |ScalarFromTensor [id CO] <int64> ''   \n",
      " |Subtensor{:int64:} [id DD] <TensorType(int32, vector)> ''   \n",
      " | |TensorConstant{[   0    1..4998 4999]} [id DE] <TensorType(int32, vector)>\n",
      " | |ScalarFromTensor [id CO] <int64> ''   \n",
      " |IncSubtensor{Set;:int64:} [id DF] <TensorType(float64, 4D)> ''   \n",
      " | |AllocEmpty{dtype='float64'} [id DG] <TensorType(float64, 4D)> ''   \n",
      " | | |Elemwise{add,no_inplace} [id DH] <TensorType(int64, scalar)> ''   \n",
      " | | | |Elemwise{minimum,no_inplace} [id B] <TensorType(int64, scalar)> ''   \n",
      " | | | |Subtensor{int64} [id DI] <TensorType(int64, scalar)> ''   \n",
      " | | |   |Shape [id DJ] <TensorType(int64, vector)> ''   \n",
      " | | |   | |Rebroadcast{0} [id DK] <TensorType(float64, 4D)> ''   \n",
      " | | |   |   |InplaceDimShuffle{x,0,1,2} [id DL] <TensorType(float64, (True, False, False, False))> ''   \n",
      " | | |   |     |block matrix [id DM] <TensorType(float64, 3D)>\n",
      " | | |   |Constant{0} [id T] <int64>\n",
      " | | |Subtensor{int64} [id DN] <TensorType(int64, scalar)> ''   \n",
      " | | | |Shape [id DJ] <TensorType(int64, vector)> ''   \n",
      " | | | |Constant{1} [id DO] <int64>\n",
      " | | |Subtensor{int64} [id DP] <TensorType(int64, scalar)> ''   \n",
      " | | | |Shape [id DJ] <TensorType(int64, vector)> ''   \n",
      " | | | |Constant{2} [id DQ] <int64>\n",
      " | | |Subtensor{int64} [id DR] <TensorType(int64, scalar)> ''   \n",
      " | |   |Shape [id DJ] <TensorType(int64, vector)> ''   \n",
      " | |   |Constant{3} [id DS] <int64>\n",
      " | |Rebroadcast{0} [id DK] <TensorType(float64, 4D)> ''   \n",
      " | |ScalarFromTensor [id DT] <int64> ''   \n",
      " |   |Subtensor{int64} [id DI] <TensorType(int64, scalar)> ''   \n",
      " |IncSubtensor{Set;:int64:} [id DU] <TensorType(float64, matrix)> ''   \n",
      " | |AllocEmpty{dtype='float64'} [id DV] <TensorType(float64, matrix)> ''   \n",
      " | | |Elemwise{add,no_inplace} [id DW] <TensorType(int64, scalar)> ''   \n",
      " | | | |Elemwise{minimum,no_inplace} [id B] <TensorType(int64, scalar)> ''   \n",
      " | | | |Subtensor{int64} [id DX] <TensorType(int64, scalar)> ''   \n",
      " | | |   |Shape [id DY] <TensorType(int64, vector)> ''   \n",
      " | | |   | |Rebroadcast{0} [id DZ] <TensorType(float64, matrix)> ''   \n",
      " | | |   |   |InplaceDimShuffle{x,0} [id EA] <TensorType(float64, row)> ''   \n",
      " | | |   |     |Weights vector [id EB] <TensorType(float64, vector)>\n",
      " | | |   |Constant{0} [id T] <int64>\n",
      " | | |Subtensor{int64} [id EC] <TensorType(int64, scalar)> ''   \n",
      " | |   |Shape [id DY] <TensorType(int64, vector)> ''   \n",
      " | |   |Constant{1} [id DO] <int64>\n",
      " | |Rebroadcast{0} [id DZ] <TensorType(float64, matrix)> ''   \n",
      " | |ScalarFromTensor [id ED] <int64> ''   \n",
      " |   |Subtensor{int64} [id DX] <TensorType(int64, scalar)> ''   \n",
      " |IncSubtensor{Set;:int64:} [id EE] <TensorType(float64, 3D)> ''   \n",
      " | |AllocEmpty{dtype='float64'} [id EF] <TensorType(float64, 3D)> ''   \n",
      " | | |Elemwise{add,no_inplace} [id EG] <TensorType(int64, scalar)> ''   \n",
      " | | | |Elemwise{minimum,no_inplace} [id B] <TensorType(int64, scalar)> ''   \n",
      " | | | |Subtensor{int64} [id EH] <TensorType(int64, scalar)> ''   \n",
      " | | |   |Shape [id EI] <TensorType(int64, vector)> ''   \n",
      " | | |   | |Rebroadcast{0} [id EJ] <TensorType(float64, 3D)> ''   \n",
      " | | |   |   |InplaceDimShuffle{x,0,1} [id EK] <TensorType(float64, (True, False, False))> ''   \n",
      " | | |   |     |Scalar matrix [id EL] <TensorType(float64, matrix)>\n",
      " | | |   |Constant{0} [id T] <int64>\n",
      " | | |Subtensor{int64} [id EM] <TensorType(int64, scalar)> ''   \n",
      " | | | |Shape [id EI] <TensorType(int64, vector)> ''   \n",
      " | | | |Constant{1} [id DO] <int64>\n",
      " | | |Subtensor{int64} [id EN] <TensorType(int64, scalar)> ''   \n",
      " | |   |Shape [id EI] <TensorType(int64, vector)> ''   \n",
      " | |   |Constant{2} [id DQ] <int64>\n",
      " | |Rebroadcast{0} [id EJ] <TensorType(float64, 3D)> ''   \n",
      " | |ScalarFromTensor [id EO] <int64> ''   \n",
      " |   |Subtensor{int64} [id EH] <TensorType(int64, scalar)> ''   \n",
      " |IncSubtensor{Set;:int64:} [id EP] <TensorType(float64, 3D)> ''   \n",
      " | |AllocEmpty{dtype='float64'} [id EQ] <TensorType(float64, 3D)> ''   \n",
      " | | |Elemwise{add,no_inplace} [id ER] <TensorType(int64, scalar)> ''   \n",
      " | | | |Elemwise{minimum,no_inplace} [id B] <TensorType(int64, scalar)> ''   \n",
      " | | | |Subtensor{int64} [id ES] <TensorType(int64, scalar)> ''   \n",
      " | | |   |Shape [id ET] <TensorType(int64, vector)> ''   \n",
      " | | |   | |Rebroadcast{0} [id EU] <TensorType(float64, 3D)> ''   \n",
      " | | |   |   |InplaceDimShuffle{x,0,1} [id EV] <TensorType(float64, (True, False, False))> ''   \n",
      " | | |   |     |Alloc [id EW] <TensorType(float64, matrix)> ''   \n",
      " | | |   |       |TensorConstant{0.0} [id EX] <TensorType(float64, scalar)>\n",
      " | | |   |       |Subtensor{int64} [id EY] <TensorType(int64, scalar)> ''   \n",
      " | | |   |       | |Shape [id EZ] <TensorType(int64, vector)> ''   \n",
      " | | |   |       | | |<TensorType(int32, vector)> [id CH] <TensorType(int32, vector)>\n",
      " | | |   |       | |Constant{0} [id T] <int64>\n",
      " | | |   |       |Subtensor{int64} [id FA] <TensorType(int32, scalar)> ''   \n",
      " | | |   |         |List with the number of surfaces [id FB] <TensorType(int32, vector)>\n",
      " | | |   |         |Constant{-1} [id FC] <int64>\n",
      " | | |   |Constant{0} [id T] <int64>\n",
      " | | |Subtensor{int64} [id FD] <TensorType(int64, scalar)> ''   \n",
      " | | | |Shape [id ET] <TensorType(int64, vector)> ''   \n",
      " | | | |Constant{1} [id DO] <int64>\n",
      " | | |Subtensor{int64} [id FE] <TensorType(int64, scalar)> ''   \n",
      " | |   |Shape [id ET] <TensorType(int64, vector)> ''   \n",
      " | |   |Constant{2} [id DQ] <int64>\n",
      " | |Rebroadcast{0} [id EU] <TensorType(float64, 3D)> ''   \n",
      " | |ScalarFromTensor [id FF] <int64> ''   \n",
      " |   |Subtensor{int64} [id ES] <TensorType(int64, scalar)> ''   \n",
      " |IncSubtensor{Set;:int64:} [id FG] <TensorType(bool, 3D)> ''   \n",
      " | |AllocEmpty{dtype='bool'} [id FH] <TensorType(bool, 3D)> ''   \n",
      " | | |Elemwise{add,no_inplace} [id FI] <TensorType(int64, scalar)> ''   \n",
      " | | | |Elemwise{minimum,no_inplace} [id B] <TensorType(int64, scalar)> ''   \n",
      " | | | |Subtensor{int64} [id FJ] <TensorType(int64, scalar)> ''   \n",
      " | | |   |Shape [id FK] <TensorType(int64, vector)> ''   \n",
      " | | |   | |Rebroadcast{0} [id FL] <TensorType(bool, 3D)> ''   \n",
      " | | |   |   |InplaceDimShuffle{x,0,1} [id FM] <TensorType(bool, (True, False, False))> ''   \n",
      " | | |   |     |mask matrix [id FN] <TensorType(bool, matrix)>\n",
      " | | |   |Constant{0} [id T] <int64>\n",
      " | | |Subtensor{int64} [id FO] <TensorType(int64, scalar)> ''   \n",
      " | | | |Shape [id FK] <TensorType(int64, vector)> ''   \n",
      " | | | |Constant{1} [id DO] <int64>\n",
      " | | |Subtensor{int64} [id FP] <TensorType(int64, scalar)> ''   \n",
      " | |   |Shape [id FK] <TensorType(int64, vector)> ''   \n",
      " | |   |Constant{2} [id DQ] <int64>\n",
      " | |Rebroadcast{0} [id FL] <TensorType(bool, 3D)> ''   \n",
      " | |ScalarFromTensor [id FQ] <int64> ''   \n",
      " |   |Subtensor{int64} [id FJ] <TensorType(int64, scalar)> ''   \n",
      " |IncSubtensor{Set;:int64:} [id FR] <TensorType(bool, 3D)> ''   \n",
      " | |AllocEmpty{dtype='bool'} [id FS] <TensorType(bool, 3D)> ''   \n",
      " | | |Elemwise{add,no_inplace} [id FT] <TensorType(int64, scalar)> ''   \n",
      " | | | |Elemwise{minimum,no_inplace} [id B] <TensorType(int64, scalar)> ''   \n",
      " | | | |Subtensor{int64} [id FU] <TensorType(int64, scalar)> ''   \n",
      " | | |   |Shape [id FV] <TensorType(int64, vector)> ''   \n",
      " | | |   | |Rebroadcast{0} [id FW] <TensorType(bool, 3D)> ''   \n",
      " | | |   |   |InplaceDimShuffle{x,0,1} [id FX] <TensorType(bool, (True, False, False))> ''   \n",
      " | | |   |     |Elemwise{second,no_inplace} [id FY] <TensorType(bool, matrix)> ''   \n",
      " | | |   |       |mask matrix [id FN] <TensorType(bool, matrix)>\n",
      " | | |   |       |TensorConstant{(1, 1) of False} [id FZ] <TensorType(bool, (True, True))>\n",
      " | | |   |Constant{0} [id T] <int64>\n",
      " | | |Subtensor{int64} [id GA] <TensorType(int64, scalar)> ''   \n",
      " | | | |Shape [id FV] <TensorType(int64, vector)> ''   \n",
      " | | | |Constant{1} [id DO] <int64>\n",
      " | | |Subtensor{int64} [id GB] <TensorType(int64, scalar)> ''   \n",
      " | |   |Shape [id FV] <TensorType(int64, vector)> ''   \n",
      " | |   |Constant{2} [id DQ] <int64>\n",
      " | |Rebroadcast{0} [id FW] <TensorType(bool, 3D)> ''   \n",
      " | |ScalarFromTensor [id GC] <int64> ''   \n",
      " |   |Subtensor{int64} [id FU] <TensorType(int64, scalar)> ''   \n",
      " |IncSubtensor{Set;:int64:} [id GD] <TensorType(float64, 4D)> ''   \n",
      " | |AllocEmpty{dtype='float64'} [id GE] <TensorType(float64, 4D)> ''   \n",
      " | | |Elemwise{add,no_inplace} [id GF] <TensorType(int64, scalar)> ''   \n",
      " | | | |Elemwise{minimum,no_inplace} [id B] <TensorType(int64, scalar)> ''   \n",
      " | | | |Subtensor{int64} [id GG] <TensorType(int64, scalar)> ''   \n",
      " | | |   |Shape [id GH] <TensorType(int64, vector)> ''   \n",
      " | | |   | |Rebroadcast{0} [id GI] <TensorType(float64, 4D)> ''   \n",
      " | | |   |   |InplaceDimShuffle{x,0,1,2} [id GJ] <TensorType(float64, (True, False, False, False))> ''   \n",
      " | | |   |     |Elemwise{second,no_inplace} [id GK] <TensorType(float64, 3D)> ''   \n",
      " | | |   |       |block matrix [id DM] <TensorType(float64, 3D)>\n",
      " | | |   |       |TensorConstant{(1, 1, 1) of 0.0} [id GL] <TensorType(float64, (True, True, True))>\n",
      " | | |   |Constant{0} [id T] <int64>\n",
      " | | |Subtensor{int64} [id GM] <TensorType(int64, scalar)> ''   \n",
      " | | | |Shape [id GH] <TensorType(int64, vector)> ''   \n",
      " | | | |Constant{1} [id DO] <int64>\n",
      " | | |Subtensor{int64} [id GN] <TensorType(int64, scalar)> ''   \n",
      " | | | |Shape [id GH] <TensorType(int64, vector)> ''   \n",
      " | | | |Constant{2} [id DQ] <int64>\n",
      " | | |Subtensor{int64} [id GO] <TensorType(int64, scalar)> ''   \n",
      " | |   |Shape [id GH] <TensorType(int64, vector)> ''   \n",
      " | |   |Constant{3} [id DS] <int64>\n",
      " | |Rebroadcast{0} [id GI] <TensorType(float64, 4D)> ''   \n",
      " | |ScalarFromTensor [id GP] <int64> ''   \n",
      " |   |Subtensor{int64} [id GG] <TensorType(int64, scalar)> ''   \n",
      " |IncSubtensor{Set;:int64:} [id GQ] <TensorType(int64, vector)> ''   \n",
      " | |AllocEmpty{dtype='int64'} [id GR] <TensorType(int64, vector)> ''   \n",
      " | | |Elemwise{add,no_inplace} [id GS] <TensorType(int64, scalar)> ''   \n",
      " | |   |Elemwise{minimum,no_inplace} [id B] <TensorType(int64, scalar)> ''   \n",
      " | |   |TensorConstant{1} [id GT] <TensorType(int64, scalar)>\n",
      " | |TensorConstant{(1,) of 0} [id GU] <TensorType(int64, vector)>\n",
      " | |Constant{1} [id DO] <int64>\n",
      " |Number of points per surface used to split rest-ref [id GV] <TensorType(int32, vector)>\n",
      " |fault relation matrix [id GW] <TensorType(int32, matrix)>\n",
      " |<TensorType(float64, scalar)> [id GX] <TensorType(float64, scalar)>\n",
      " |<TensorType(float64, scalar)> [id GY] <TensorType(float64, scalar)>\n",
      " |Range [id GZ] <TensorType(float64, scalar)>\n",
      " |Covariance at 0 [id HA] <TensorType(float64, scalar)>\n",
      " |<TensorType(float64, scalar)> [id HB] <TensorType(float64, scalar)>\n",
      " |Nugget effect of gradients [id HC] <TensorType(float64, vector)>\n",
      " |Nugget effect of scalar [id HD] <TensorType(float64, vector)>\n",
      " |Attenuation factor [id HE] <TensorType(float64, scalar)>\n",
      " |Sigmoid Outside [id HF] <TensorType(float64, scalar)>\n",
      " |Sigmoid slope [id HG] <TensorType(float64, scalar)>\n",
      " |<TensorType(int32, vector)> [id CL] <TensorType(int32, vector)>\n",
      " |<TensorType(bool, vector)> [id HH] <TensorType(bool, vector)>\n",
      " |<TensorType(int32, vector)> [id CH] <TensorType(int32, vector)>\n",
      " |Coordinates of the grid points to interpolate [id HI] <TensorType(float64, matrix)>\n",
      " |All the surface_points points at once [id HJ] <TensorType(float64, matrix)>\n",
      " |Position of the dips [id HK] <TensorType(float64, matrix)>\n",
      " |Angle of every dip [id HL] <TensorType(float64, vector)>\n",
      " |Azimuth [id HM] <TensorType(float64, vector)>\n",
      " |Polarity [id HN] <TensorType(float64, vector)>\n",
      " |Values that the blocks are taking [id HO] <TensorType(float64, matrix)>\n",
      "for{cpu,Looping}.1 [id A] <TensorType(float64, matrix)> ''   \n",
      "for{cpu,Looping}.2 [id A] <TensorType(float64, 3D)> ''   \n",
      "for{cpu,Looping}.3 [id A] <TensorType(float64, 3D)> ''   \n",
      "for{cpu,Looping}.4 [id A] <TensorType(bool, 3D)> ''   \n",
      "for{cpu,Looping}.5 [id A] <TensorType(bool, 3D)> ''   \n",
      "for{cpu,Looping}.6 [id A] <TensorType(float64, 4D)> ''   \n",
      "for{cpu,Looping}.7 [id A] <TensorType(int64, vector)> ''   \n",
      "\n",
      "Inner graphs of the scan ops:\n",
      "\n",
      "for{cpu,Looping}.0 [id A] <TensorType(float64, 4D)> ''   \n",
      " >IncSubtensor{Set;int32, ::, int8:int64:} [id HP] <TensorType(float64, 3D)> ''   \n",
      " > |block matrix[t-1] [id HQ] <TensorType(float64, 3D)> -> [id DF]\n",
      " > |if{} [id HR] <TensorType(float64, matrix)> ''   \n",
      " > | |Vector controlling if block matrix must be recomputed[t] [id HS] <TensorType(bool, scalar)> -> [id CZ]\n",
      " > | |if{} [id HT] <TensorType(float64, matrix)> ''   \n",
      " > | | |The series (fault) is finite[t] [id HU] <TensorType(int32, scalar)> -> [id DA]\n",
      " > | | |Sum{axis=[0], acc_dtype=float64} [id HV] <TensorType(float64, matrix)> 'The chunk of block model of a specific series'   \n",
      " > | | |Sum{axis=[0], acc_dtype=float64} [id HW] <TensorType(float64, matrix)> 'The chunk of block model of a specific series'   \n",
      " > | |Subtensor{int32, ::} [id HX] <TensorType(float64, matrix)> ''   \n",
      " > |   |block matrix[t-1] [id HQ] <TensorType(float64, 3D)> -> [id DF]\n",
      " > |   |ScalarFromTensor [id HY] <int32> ''   \n",
      " > |     |<TensorType(int32, scalar)> [id HZ] <TensorType(int32, scalar)> -> [id DD]\n",
      " > |ScalarFromTensor [id HY] <int32> ''   \n",
      " > |Constant{0} [id IA] <int8>\n",
      " > |ScalarFromTensor [id IB] <int64> ''   \n",
      " >   |Elemwise{add,no_inplace} [id IC] <TensorType(int64, scalar)> ''   \n",
      " >     |Elemwise{add,no_inplace} [id ID] <TensorType(int64, scalar)> ''   \n",
      " >     | |Subtensor{int64} [id IE] <TensorType(int64, scalar)> ''   \n",
      " >     | | |Shape [id IF] <TensorType(int64, vector)> ''   \n",
      " >     | | | |Coordinates of the grid points to interpolate_copy [id IG] <TensorType(float64, matrix)> -> [id HI]\n",
      " >     | | |Constant{0} [id IH] <int64>\n",
      " >     | |Elemwise{mul,no_inplace} [id II] <TensorType(int64, scalar)> ''   \n",
      " >     |   |TensorConstant{2} [id IJ] <TensorType(int8, scalar)>\n",
      " >     |   |Elemwise{sub,no_inplace} [id IK] <TensorType(int64, scalar)> ''   \n",
      " >     |     |Subtensor{int64} [id IL] <TensorType(int64, scalar)> ''   \n",
      " >     |     | |Shape [id IM] <TensorType(int64, vector)> ''   \n",
      " >     |     | | |All the surface_points points at once_copy [id IN] <TensorType(float64, matrix)> -> [id HJ]\n",
      " >     |     | |Constant{0} [id IH] <int64>\n",
      " >     |     |Subtensor{int64} [id IO] <TensorType(int64, scalar)> ''   \n",
      " >     |       |Shape [id IP] <TensorType(int64, vector)> ''   \n",
      " >     |       | |Number of points per surface used to split rest-ref_copy [id IQ] <TensorType(int32, vector)> -> [id GV]\n",
      " >     |       |Constant{0} [id IH] <int64>\n",
      " >     |TensorConstant{0} [id IR] <TensorType(int8, scalar)>\n",
      " >IncSubtensor{Set;int32:int32:} [id IS] <TensorType(float64, vector)> ''   \n",
      " > |Weights vector[t-1] [id IT] <TensorType(float64, vector)> -> [id DU]\n",
      " > |if{} [id IU] <TensorType(float64, vector)> ''   \n",
      " > | |Vector controlling if weights must be recomputed[t] [id IV] <TensorType(bool, scalar)> -> [id CX]\n",
      " > | |Reshape{1} [id IW] <TensorType(float64, vector)> 'Dual Kriging parameters'   \n",
      " > | |Subtensor{int32:int32:} [id IX] <TensorType(float64, vector)> ''   \n",
      " > |   |Weights vector[t-1] [id IT] <TensorType(float64, vector)> -> [id DU]\n",
      " > |   |ScalarFromTensor [id IY] <int32> ''   \n",
      " > |   | |Length of weights in every series[t] [id IZ] <TensorType(int32, scalar)> -> [id CS]\n",
      " > |   |ScalarFromTensor [id JA] <int32> ''   \n",
      " > |     |Length of weights in every series[t+1] [id JB] <TensorType(int32, scalar)> -> [id CT]\n",
      " > |ScalarFromTensor [id IY] <int32> ''   \n",
      " > |ScalarFromTensor [id JA] <int32> ''   \n",
      " >IncSubtensor{Set;int32, int8:int64:} [id JC] <TensorType(float64, matrix)> ''   \n",
      " > |Scalar matrix[t-1] [id JD] <TensorType(float64, matrix)> -> [id EE]\n",
      " > |if{} [id JE] <TensorType(float64, vector)> ''   \n",
      " > | |Vector controlling if scalar matrix must be recomputed[t] [id JF] <TensorType(bool, scalar)> -> [id CY]\n",
      " > | |Subtensor{int64} [id JG] <TensorType(float64, vector)> 'Value of the potential field at every point'   \n",
      " > | |Subtensor{int32} [id JH] <TensorType(float64, vector)> ''   \n",
      " > |   |Scalar matrix[t-1] [id JD] <TensorType(float64, matrix)> -> [id EE]\n",
      " > |   |ScalarFromTensor [id HY] <int32> ''   \n",
      " > |ScalarFromTensor [id HY] <int32> ''   \n",
      " > |Constant{0} [id IA] <int8>\n",
      " > |ScalarFromTensor [id IB] <int64> ''   \n",
      " >AdvancedIncSubtensor{inplace=False,  set_instead_of_inc=True} [id JI] <TensorType(float64, matrix)> ''   \n",
      " > |<TensorType(float64, matrix)> [id JJ] <TensorType(float64, matrix)> -> [id EP]\n",
      " > |AdvancedSubtensor1 [id JK] <TensorType(float64, vector)> ''   \n",
      " > | |Subtensor{int64:int64:} [id JL] <TensorType(float64, vector)> ''   \n",
      " > | | |if{} [id JE] <TensorType(float64, vector)> ''   \n",
      " > | | |ScalarFromTensor [id JM] <int64> ''   \n",
      " > | | | |Elemwise{mul,no_inplace} [id JN] <TensorType(int64, scalar)> ''   \n",
      " > | | |   |TensorConstant{-2} [id JO] <TensorType(int8, scalar)>\n",
      " > | | |   |Elemwise{sub,no_inplace} [id IK] <TensorType(int64, scalar)> ''   \n",
      " > | | |ScalarFromTensor [id JP] <int64> ''   \n",
      " > | |   |Elemwise{neg,no_inplace} [id JQ] <TensorType(int64, scalar)> ''   \n",
      " > | |     |Elemwise{sub,no_inplace} [id IK] <TensorType(int64, scalar)> ''   \n",
      " > | |Subtensor{int32:int32:} [id JR] <TensorType(int32, vector)> ''   \n",
      " > |   |CumOp{None, add} [id JS] <TensorType(int32, vector)> 'Number of points per surfaces after rest-ref. This is used for finding the differentsurface points withing a layer.'   \n",
      " > |   |ScalarFromTensor [id JT] <int32> ''   \n",
      " > |   | |List with the number of surfaces[t] [id JU] <TensorType(int32, scalar)> -> [id CU]\n",
      " > |   |ScalarFromTensor [id JV] <int32> ''   \n",
      " > |     |List with the number of surfaces[t+1] [id JW] <TensorType(int32, scalar)> -> [id CV]\n",
      " > |<TensorType(int32, scalar)> [id HZ] <TensorType(int32, scalar)> -> [id DD]\n",
      " > |Elemwise{sub,no_inplace} [id JX] <TensorType(int32, vector)> ''   \n",
      " >   |Subtensor{int32:int32:} [id JY] <TensorType(int32, vector)> ''   \n",
      " >   | |TensorConstant{[   1    2..4998 4999]} [id JZ] <TensorType(int32, vector)>\n",
      " >   | |ScalarFromTensor [id JT] <int32> ''   \n",
      " >   | |ScalarFromTensor [id JV] <int32> ''   \n",
      " >   |TensorConstant{(1,) of 1} [id KA] <TensorType(int8, (True,))>\n",
      " >IncSubtensor{Set;int32, int8:int64:} [id KB] <TensorType(bool, matrix)> ''   \n",
      " > |IncSubtensor{Set;int64:int32:, int8:int64:} [id KC] <TensorType(bool, matrix)> ''   \n",
      " > | |IncSubtensor{Set;int32:int32:, int8:int64:} [id KD] <TensorType(bool, matrix)> ''   \n",
      " > | | |mask matrix[t-1] [id KE] <TensorType(bool, matrix)> -> [id FG]\n",
      " > | | |if{} [id KF] <TensorType(bool, vector)> ''   \n",
      " > | | | |<TensorType(int32, scalar)> [id KG] <TensorType(int32, scalar)> -> [id DC]\n",
      " > | | | |Elemwise{gt,no_inplace} [id KH] <TensorType(bool, vector)> ''   \n",
      " > | | | | |if{} [id JE] <TensorType(float64, vector)> ''   \n",
      " > | | | | |InplaceDimShuffle{x} [id KI] <TensorType(float64, (True,))> ''   \n",
      " > | | | |   |MaxAndArgmax{axis=(0,)}.0 [id KJ] <TensorType(float64, scalar)> 'max'   \n",
      " > | | | |Subtensor{int32, int8:int64:} [id KK] <TensorType(bool, vector)> ''   \n",
      " > | | |   |mask matrix[t-1] [id KE] <TensorType(bool, matrix)> -> [id FG]\n",
      " > | | |   |ScalarFromTensor [id KL] <int32> ''   \n",
      " > | | |   | |Elemwise{sub,no_inplace} [id KM] <TensorType(int32, scalar)> ''   \n",
      " > | | |   |   |<TensorType(int32, scalar)> [id HZ] <TensorType(int32, scalar)> -> [id DD]\n",
      " > | | |   |   |TensorConstant{1} [id KN] <TensorType(int8, scalar)>\n",
      " > | | |   |Constant{0} [id IA] <int8>\n",
      " > | | |   |ScalarFromTensor [id IB] <int64> ''   \n",
      " > | | |ScalarFromTensor [id KL] <int32> ''   \n",
      " > | | |ScalarFromTensor [id HY] <int32> ''   \n",
      " > | | |Constant{0} [id IA] <int8>\n",
      " > | | |ScalarFromTensor [id IB] <int64> ''   \n",
      " > | |Subtensor{::int64} [id KO] <TensorType(bool, matrix)> ''   \n",
      " > | | |CumOp{0, mul} [id KP] <TensorType(bool, matrix)> ''   \n",
      " > | | | |Subtensor{::int64} [id KQ] <TensorType(bool, matrix)> ''   \n",
      " > | | |   |Subtensor{int64:int32:, int8:int64:} [id KR] <TensorType(bool, matrix)> ''   \n",
      " > | | |   | |IncSubtensor{Set;int32:int32:, int8:int64:} [id KD] <TensorType(bool, matrix)> ''   \n",
      " > | | |   | |ScalarFromTensor [id KS] <int64> ''   \n",
      " > | | |   | | |Elemwise{sub,no_inplace} [id KT] <TensorType(int64, scalar)> ''   \n",
      " > | | |   | |   |<TensorType(int32, scalar)> [id HZ] <TensorType(int32, scalar)> -> [id DD]\n",
      " > | | |   | |   |Elemwise{mul,no_inplace} [id KU] <TensorType(int64, scalar)> ''   \n",
      " > | | |   | |     |Elemwise{mul,no_inplace} [id KV] <TensorType(int64, scalar)> ''   \n",
      " > | | |   | |     | |Elemwise{add,no_inplace} [id KW] <TensorType(int64, scalar)> ''   \n",
      " > | | |   | |     | | |<TensorType(int64, scalar)> [id KX] <TensorType(int64, scalar)> -> [id GQ]\n",
      " > | | |   | |     | | |Elemwise{add,no_inplace} [id KY] <TensorType(int32, scalar)> ''   \n",
      " > | | |   | |     | |   |Subtensor{int32} [id KZ] <TensorType(int32, scalar)> ''   \n",
      " > | | |   | |     | |   | |<TensorType(int32, vector)> [id LA] <TensorType(int32, vector)> -> [id CL]\n",
      " > | | |   | |     | |   | |ScalarFromTensor [id HY] <int32> ''   \n",
      " > | | |   | |     | |   |Subtensor{int32} [id LB] <TensorType(bool, scalar)> ''   \n",
      " > | | |   | |     | |     |<TensorType(bool, vector)> [id LC] <TensorType(bool, vector)> -> [id HH]\n",
      " > | | |   | |     | |     |ScalarFromTensor [id HY] <int32> ''   \n",
      " > | | |   | |     | |Elemwise{add,no_inplace} [id KY] <TensorType(int32, scalar)> ''   \n",
      " > | | |   | |     |Subtensor{int64} [id LD] <TensorType(int32, scalar)> ''   \n",
      " > | | |   | |       |<TensorType(int32, vector)> [id LA] <TensorType(int32, vector)> -> [id CL]\n",
      " > | | |   | |       |ScalarFromTensor [id LE] <int64> ''   \n",
      " > | | |   | |         |Elemwise{sub,no_inplace} [id LF] <TensorType(int64, scalar)> ''   \n",
      " > | | |   | |           |<TensorType(int32, scalar)> [id HZ] <TensorType(int32, scalar)> -> [id DD]\n",
      " > | | |   | |           |<TensorType(int64, scalar)> [id KX] <TensorType(int64, scalar)> -> [id GQ]\n",
      " > | | |   | |ScalarFromTensor [id HY] <int32> ''   \n",
      " > | | |   | |Constant{0} [id IA] <int8>\n",
      " > | | |   | |ScalarFromTensor [id IB] <int64> ''   \n",
      " > | | |   |Constant{-1} [id LG] <int64>\n",
      " > | | |Constant{-1} [id LG] <int64>\n",
      " > | |ScalarFromTensor [id KS] <int64> ''   \n",
      " > | |ScalarFromTensor [id HY] <int32> ''   \n",
      " > | |Constant{0} [id IA] <int8>\n",
      " > | |ScalarFromTensor [id IB] <int64> ''   \n",
      " > |if{} [id LH] <TensorType(bool, vector)> ''   \n",
      " > | |<TensorType(int32, scalar)> [id LI] <TensorType(int32, scalar)> -> [id DB]\n",
      " > | |Elemwise{gt,no_inplace} [id LJ] <TensorType(bool, vector)> ''   \n",
      " > | | |if{} [id JE] <TensorType(float64, vector)> ''   \n",
      " > | | |InplaceDimShuffle{x} [id LK] <TensorType(float64, (True,))> ''   \n",
      " > | |   |Elemwise{neg,no_inplace} [id LL] <TensorType(float64, scalar)> ''   \n",
      " > | |     |MaxAndArgmax{axis=(0,)}.0 [id LM] <TensorType(float64, scalar)> 'max'   \n",
      " > | |Elemwise{mul,no_inplace} [id LN] <TensorType(bool, vector)> ''   \n",
      " > |   |InplaceDimShuffle{x} [id LO] <TensorType(bool, (True,))> ''   \n",
      " > |   | |Elemwise{invert,no_inplace} [id LP] <TensorType(bool, scalar)> ''   \n",
      " > |   |   |Subtensor{int32} [id LB] <TensorType(bool, scalar)> ''   \n",
      " > |   |Elemwise{second,no_inplace} [id LQ] <TensorType(bool, vector)> ''   \n",
      " > |     |if{} [id JE] <TensorType(float64, vector)> ''   \n",
      " > |     |TensorConstant{(1,) of True} [id LR] <TensorType(bool, (True,))>\n",
      " > |ScalarFromTensor [id HY] <int32> ''   \n",
      " > |Constant{0} [id IA] <int8>\n",
      " > |ScalarFromTensor [id IB] <int64> ''   \n",
      " >AdvancedBooleanIncSubtensor{inplace=False,  set_instead_of_inc=True} [id LS] <TensorType(bool, matrix)> ''   \n",
      " > |<TensorType(bool, matrix)> [id LT] <TensorType(bool, matrix)> -> [id FR]\n",
      " > |Elemwise{add,no_inplace} [id LU] <TensorType(bool, vector)> ''   \n",
      " > | |if{} [id LH] <TensorType(bool, vector)> ''   \n",
      " > | |if{} [id LV] <TensorType(bool, vector)> ''   \n",
      " > |   |Subtensor{int32} [id LB] <TensorType(bool, scalar)> ''   \n",
      " > |   |Elemwise{gt,no_inplace} [id LJ] <TensorType(bool, vector)> ''   \n",
      " > |   |Elemwise{second,no_inplace} [id LW] <TensorType(bool, vector)> ''   \n",
      " > |     |if{} [id JE] <TensorType(float64, vector)> ''   \n",
      " > |     |TensorConstant{(1,) of False} [id LX] <TensorType(bool, (True,))>\n",
      " > |Elemwise{mul,no_inplace} [id LY] <TensorType(bool, vector)> ''   \n",
      " > | |Subtensor{:int64:} [id LZ] <TensorType(bool, vector)> ''   \n",
      " > | | |<TensorType(bool, vector)> [id LC] <TensorType(bool, vector)> -> [id HH]\n",
      " > | | |ScalarFromTensor [id MA] <int64> ''   \n",
      " > | |   |Subtensor{int64} [id MB] <TensorType(int64, scalar)> ''   \n",
      " > | |     |Shape [id MC] <TensorType(int64, vector)> ''   \n",
      " > | |     | |<TensorType(int32, vector)> [id MD] <TensorType(int32, vector)> -> [id CH]\n",
      " > | |     |Constant{0} [id IH] <int64>\n",
      " > | |Elemwise{invert,no_inplace} [id ME] <TensorType(bool, vector)> ''   \n",
      " > |   |Elemwise{Cast{bool}} [id MF] <TensorType(bool, vector)> ''   \n",
      " > |     |Subtensor{:int64:} [id MG] <TensorType(int32, vector)> ''   \n",
      " > |       |Subtensor{::, int8} [id MH] <TensorType(int32, vector)> ''   \n",
      " > |       | |fault relation matrix_copy [id MI] <TensorType(int32, matrix)> -> [id GW]\n",
      " > |       | |ScalarFromTensor [id MJ] <int8> ''   \n",
      " > |       |   |Elemwise{Cast{int8}} [id MK] <TensorType(int8, scalar)> ''   \n",
      " > |       |     |<TensorType(int32, scalar)> [id HZ] <TensorType(int32, scalar)> -> [id DD]\n",
      " > |       |ScalarFromTensor [id MA] <int64> ''   \n",
      " > |MakeSlice [id ML] <slice> ''   \n",
      " >   |TensorConstant{0} [id IR] <TensorType(int8, scalar)>\n",
      " >   |Elemwise{add,no_inplace} [id IC] <TensorType(int64, scalar)> ''   \n",
      " >   |NoneConst [id MM] <NoneTypeT>\n",
      " >IncSubtensor{Set;int32, ::, int8:int64:} [id MN] <TensorType(float64, 3D)> ''   \n",
      " > |<TensorType(float64, 3D)> [id MO] <TensorType(float64, 3D)> -> [id GD]\n",
      " > |if{} [id HR] <TensorType(float64, matrix)> ''   \n",
      " > |ScalarFromTensor [id HY] <int32> ''   \n",
      " > |Constant{0} [id IA] <int8>\n",
      " > |ScalarFromTensor [id IB] <int64> ''   \n",
      " >Elemwise{mul,no_inplace} [id KU] <TensorType(int64, scalar)> ''   \n",
      "\n",
      "for{cpu,Looping}.1 [id A] <TensorType(float64, matrix)> ''   \n",
      " >IncSubtensor{Set;int32, ::, int8:int64:} [id HP] <TensorType(float64, 3D)> ''   \n",
      " >IncSubtensor{Set;int32:int32:} [id IS] <TensorType(float64, vector)> ''   \n",
      " >IncSubtensor{Set;int32, int8:int64:} [id JC] <TensorType(float64, matrix)> ''   \n",
      " >AdvancedIncSubtensor{inplace=False,  set_instead_of_inc=True} [id JI] <TensorType(float64, matrix)> ''   \n",
      " >IncSubtensor{Set;int32, int8:int64:} [id KB] <TensorType(bool, matrix)> ''   \n",
      " >AdvancedBooleanIncSubtensor{inplace=False,  set_instead_of_inc=True} [id LS] <TensorType(bool, matrix)> ''   \n",
      " >IncSubtensor{Set;int32, ::, int8:int64:} [id MN] <TensorType(float64, 3D)> ''   \n",
      " >Elemwise{mul,no_inplace} [id KU] <TensorType(int64, scalar)> ''   \n",
      "\n",
      "for{cpu,Looping}.2 [id A] <TensorType(float64, 3D)> ''   \n",
      " >IncSubtensor{Set;int32, ::, int8:int64:} [id HP] <TensorType(float64, 3D)> ''   \n",
      " >IncSubtensor{Set;int32:int32:} [id IS] <TensorType(float64, vector)> ''   \n",
      " >IncSubtensor{Set;int32, int8:int64:} [id JC] <TensorType(float64, matrix)> ''   \n",
      " >AdvancedIncSubtensor{inplace=False,  set_instead_of_inc=True} [id JI] <TensorType(float64, matrix)> ''   \n",
      " >IncSubtensor{Set;int32, int8:int64:} [id KB] <TensorType(bool, matrix)> ''   \n",
      " >AdvancedBooleanIncSubtensor{inplace=False,  set_instead_of_inc=True} [id LS] <TensorType(bool, matrix)> ''   \n",
      " >IncSubtensor{Set;int32, ::, int8:int64:} [id MN] <TensorType(float64, 3D)> ''   \n",
      " >Elemwise{mul,no_inplace} [id KU] <TensorType(int64, scalar)> ''   \n",
      "\n",
      "for{cpu,Looping}.3 [id A] <TensorType(float64, 3D)> ''   \n",
      " >IncSubtensor{Set;int32, ::, int8:int64:} [id HP] <TensorType(float64, 3D)> ''   \n",
      " >IncSubtensor{Set;int32:int32:} [id IS] <TensorType(float64, vector)> ''   \n",
      " >IncSubtensor{Set;int32, int8:int64:} [id JC] <TensorType(float64, matrix)> ''   \n",
      " >AdvancedIncSubtensor{inplace=False,  set_instead_of_inc=True} [id JI] <TensorType(float64, matrix)> ''   \n",
      " >IncSubtensor{Set;int32, int8:int64:} [id KB] <TensorType(bool, matrix)> ''   \n",
      " >AdvancedBooleanIncSubtensor{inplace=False,  set_instead_of_inc=True} [id LS] <TensorType(bool, matrix)> ''   \n",
      " >IncSubtensor{Set;int32, ::, int8:int64:} [id MN] <TensorType(float64, 3D)> ''   \n",
      " >Elemwise{mul,no_inplace} [id KU] <TensorType(int64, scalar)> ''   \n",
      "\n",
      "for{cpu,Looping}.4 [id A] <TensorType(bool, 3D)> ''   \n",
      " >IncSubtensor{Set;int32, ::, int8:int64:} [id HP] <TensorType(float64, 3D)> ''   \n",
      " >IncSubtensor{Set;int32:int32:} [id IS] <TensorType(float64, vector)> ''   \n",
      " >IncSubtensor{Set;int32, int8:int64:} [id JC] <TensorType(float64, matrix)> ''   \n",
      " >AdvancedIncSubtensor{inplace=False,  set_instead_of_inc=True} [id JI] <TensorType(float64, matrix)> ''   \n",
      " >IncSubtensor{Set;int32, int8:int64:} [id KB] <TensorType(bool, matrix)> ''   \n",
      " >AdvancedBooleanIncSubtensor{inplace=False,  set_instead_of_inc=True} [id LS] <TensorType(bool, matrix)> ''   \n",
      " >IncSubtensor{Set;int32, ::, int8:int64:} [id MN] <TensorType(float64, 3D)> ''   \n",
      " >Elemwise{mul,no_inplace} [id KU] <TensorType(int64, scalar)> ''   \n",
      "\n",
      "for{cpu,Looping}.5 [id A] <TensorType(bool, 3D)> ''   \n",
      " >IncSubtensor{Set;int32, ::, int8:int64:} [id HP] <TensorType(float64, 3D)> ''   \n",
      " >IncSubtensor{Set;int32:int32:} [id IS] <TensorType(float64, vector)> ''   \n",
      " >IncSubtensor{Set;int32, int8:int64:} [id JC] <TensorType(float64, matrix)> ''   \n",
      " >AdvancedIncSubtensor{inplace=False,  set_instead_of_inc=True} [id JI] <TensorType(float64, matrix)> ''   \n",
      " >IncSubtensor{Set;int32, int8:int64:} [id KB] <TensorType(bool, matrix)> ''   \n",
      " >AdvancedBooleanIncSubtensor{inplace=False,  set_instead_of_inc=True} [id LS] <TensorType(bool, matrix)> ''   \n",
      " >IncSubtensor{Set;int32, ::, int8:int64:} [id MN] <TensorType(float64, 3D)> ''   \n",
      " >Elemwise{mul,no_inplace} [id KU] <TensorType(int64, scalar)> ''   \n",
      "\n",
      "for{cpu,Looping}.6 [id A] <TensorType(float64, 4D)> ''   \n",
      " >IncSubtensor{Set;int32, ::, int8:int64:} [id HP] <TensorType(float64, 3D)> ''   \n",
      " >IncSubtensor{Set;int32:int32:} [id IS] <TensorType(float64, vector)> ''   \n",
      " >IncSubtensor{Set;int32, int8:int64:} [id JC] <TensorType(float64, matrix)> ''   \n",
      " >AdvancedIncSubtensor{inplace=False,  set_instead_of_inc=True} [id JI] <TensorType(float64, matrix)> ''   \n",
      " >IncSubtensor{Set;int32, int8:int64:} [id KB] <TensorType(bool, matrix)> ''   \n",
      " >AdvancedBooleanIncSubtensor{inplace=False,  set_instead_of_inc=True} [id LS] <TensorType(bool, matrix)> ''   \n",
      " >IncSubtensor{Set;int32, ::, int8:int64:} [id MN] <TensorType(float64, 3D)> ''   \n",
      " >Elemwise{mul,no_inplace} [id KU] <TensorType(int64, scalar)> ''   \n",
      "\n",
      "for{cpu,Looping}.7 [id A] <TensorType(int64, vector)> ''   \n",
      " >IncSubtensor{Set;int32, ::, int8:int64:} [id HP] <TensorType(float64, 3D)> ''   \n",
      " >IncSubtensor{Set;int32:int32:} [id IS] <TensorType(float64, vector)> ''   \n",
      " >IncSubtensor{Set;int32, int8:int64:} [id JC] <TensorType(float64, matrix)> ''   \n",
      " >AdvancedIncSubtensor{inplace=False,  set_instead_of_inc=True} [id JI] <TensorType(float64, matrix)> ''   \n",
      " >IncSubtensor{Set;int32, int8:int64:} [id KB] <TensorType(bool, matrix)> ''   \n",
      " >AdvancedBooleanIncSubtensor{inplace=False,  set_instead_of_inc=True} [id LS] <TensorType(bool, matrix)> ''   \n",
      " >IncSubtensor{Set;int32, ::, int8:int64:} [id MN] <TensorType(float64, 3D)> ''   \n",
      " >Elemwise{mul,no_inplace} [id KU] <TensorType(int64, scalar)> ''   \n",
      "\n",
      "Storage map footprint:\n",
      " - Coordinates of the grid points to interpolate, Input, Shape: (125000, 3), ElemSize: 8 Byte(s), TotalSize: 3000000 Byte(s)\n",
      " - IncSubtensor{Set;:int64:}.0, Shape: (2, 1, 1, 125002), ElemSize: 8 Byte(s), TotalSize: 2000032 Byte(s)\n",
      " - IncSubtensor{Set;:int64:}.0, Shape: (2, 1, 125002), ElemSize: 8 Byte(s), TotalSize: 2000032 Byte(s)\n",
      " - IncSubtensor{Set;:int64:}.0, Shape: (2, 1, 1, 125002), ElemSize: 8 Byte(s), TotalSize: 2000032 Byte(s)\n",
      " - for{cpu,Looping}.0, Shape: (2, 1, 1, 125002), ElemSize: 8 Byte(s), TotalSize: 2000032 Byte(s)\n",
      " - for{cpu,Looping}.2, Shape: (2, 1, 125002), ElemSize: 8 Byte(s), TotalSize: 2000032 Byte(s)\n",
      " - for{cpu,Looping}.6, Shape: (2, 1, 1, 125002), ElemSize: 8 Byte(s), TotalSize: 2000032 Byte(s)\n",
      " - block matrix, Shared Input, Shape: (1, 1, 125002), ElemSize: 8 Byte(s), TotalSize: 1000016 Byte(s)\n",
      " - Scalar matrix, Shared Input, Shape: (1, 125002), ElemSize: 8 Byte(s), TotalSize: 1000016 Byte(s)\n",
      " - IncSubtensor{Set;:int64:}.0, Shape: (2, 1, 125002), ElemSize: 1 Byte(s), TotalSize: 250004 Byte(s)\n",
      " - IncSubtensor{Set;:int64:}.0, Shape: (2, 1, 125002), ElemSize: 1 Byte(s), TotalSize: 250004 Byte(s)\n",
      " - for{cpu,Looping}.4, Shape: (2, 1, 125002), ElemSize: 1 Byte(s), TotalSize: 250004 Byte(s)\n",
      " - for{cpu,Looping}.5, Shape: (2, 1, 125002), ElemSize: 1 Byte(s), TotalSize: 250004 Byte(s)\n",
      " - mask matrix, Shared Input, Shape: (1, 125002), ElemSize: 1 Byte(s), TotalSize: 125002 Byte(s)\n",
      " - TensorConstant{[   0    1..4998 4999]}, Shape: (5000,), ElemSize: 4 Byte(s), TotalSize: 20000 Byte(s)\n",
      " - Vector controlling if weights must be recomputed, Input, Shape: (1000,), ElemSize: 1 Byte(s), TotalSize: 1000 Byte(s)\n",
      " - Vector controlling if scalar matrix must be recomputed, Input, Shape: (1000,), ElemSize: 1 Byte(s), TotalSize: 1000 Byte(s)\n",
      " - Vector controlling if block matrix must be recomputed, Input, Shape: (1000,), ElemSize: 1 Byte(s), TotalSize: 1000 Byte(s)\n",
      " - IncSubtensor{Set;:int64:}.0, Shape: (2, 10), ElemSize: 8 Byte(s), TotalSize: 160 Byte(s)\n",
      " - for{cpu,Looping}.1, Shape: (2, 10), ElemSize: 8 Byte(s), TotalSize: 160 Byte(s)\n",
      " - All the surface_points points at once, Input, Shape: (4, 3), ElemSize: 8 Byte(s), TotalSize: 96 Byte(s)\n",
      " - Weights vector, Shared Input, Shape: (10,), ElemSize: 8 Byte(s), TotalSize: 80 Byte(s)\n",
      " - Position of the dips, Input, Shape: (2, 3), ElemSize: 8 Byte(s), TotalSize: 48 Byte(s)\n",
      " - Nugget effect of gradients, Shared Input, Shape: (6,), ElemSize: 8 Byte(s), TotalSize: 48 Byte(s)\n",
      " - Nugget effect of scalar, Shared Input, Shape: (4,), ElemSize: 8 Byte(s), TotalSize: 32 Byte(s)\n",
      " - Values that the blocks are taking, Input, Shape: (1, 3), ElemSize: 8 Byte(s), TotalSize: 24 Byte(s)\n",
      " - Angle of every dip, Input, Shape: (2,), ElemSize: 8 Byte(s), TotalSize: 16 Byte(s)\n",
      " - Azimuth, Input, Shape: (2,), ElemSize: 8 Byte(s), TotalSize: 16 Byte(s)\n",
      " - Polarity, Input, Shape: (2,), ElemSize: 8 Byte(s), TotalSize: 16 Byte(s)\n",
      " - IncSubtensor{Set;:int64:}.0, Shape: (2,), ElemSize: 8 Byte(s), TotalSize: 16 Byte(s)\n",
      " - IncSubtensor{Set;:int64:}.0, Shape: (2, 1, 1), ElemSize: 8 Byte(s), TotalSize: 16 Byte(s)\n",
      " - for{cpu,Looping}.3, Shape: (2, 1, 1), ElemSize: 8 Byte(s), TotalSize: 16 Byte(s)\n",
      " - for{cpu,Looping}.7, Shape: (2,), ElemSize: 8 Byte(s), TotalSize: 16 Byte(s)\n",
      " - Length of surface_points in every series, Shared Input, Shape: (2,), ElemSize: 4 Byte(s), TotalSize: 8 Byte(s)\n",
      " - Length of foliations in every series, Shared Input, Shape: (2,), ElemSize: 4 Byte(s), TotalSize: 8 Byte(s)\n",
      " - Length of weights in every series, Shared Input, Shape: (2,), ElemSize: 4 Byte(s), TotalSize: 8 Byte(s)\n",
      " - List with the number of surfaces, Shared Input, Shape: (2,), ElemSize: 4 Byte(s), TotalSize: 8 Byte(s)\n",
      " - The series (fault) is finite, Shared Input, Shape: (2,), ElemSize: 4 Byte(s), TotalSize: 8 Byte(s)\n",
      " - Number of points per surface used to split rest-ref, Shared Input, Shape: (2,), ElemSize: 4 Byte(s), TotalSize: 8 Byte(s)\n",
      " - <TensorType(float64, scalar)>, Shared Input, Shape: (), ElemSize: 8 Byte(s), TotalSize: 8.0 Byte(s)\n",
      " - <TensorType(float64, scalar)>, Shared Input, Shape: (), ElemSize: 8 Byte(s), TotalSize: 8.0 Byte(s)\n",
      " - Range, Shared Input, Shape: (), ElemSize: 8 Byte(s), TotalSize: 8.0 Byte(s)\n",
      " - Covariance at 0, Shared Input, Shape: (), ElemSize: 8 Byte(s), TotalSize: 8.0 Byte(s)\n",
      " - <TensorType(float64, scalar)>, Shared Input, Shape: (), ElemSize: 8 Byte(s), TotalSize: 8.0 Byte(s)\n",
      " - Attenuation factor, Shared Input, Shape: (), ElemSize: 8 Byte(s), TotalSize: 8.0 Byte(s)\n",
      " - Sigmoid Outside, Shared Input, Shape: (), ElemSize: 8 Byte(s), TotalSize: 8.0 Byte(s)\n",
      " - Sigmoid slope, Shared Input, Shape: (), ElemSize: 8 Byte(s), TotalSize: 8.0 Byte(s)\n",
      " - <TensorType(float64, scalar)>, Shared Input, Shape: (), ElemSize: 8 Byte(s), TotalSize: 8.0 Byte(s)\n",
      " - Constant{0}, Shape: (), ElemSize: 8 Byte(s), TotalSize: 8.0 Byte(s)\n",
      " - Constant{1}, Shape: (), ElemSize: 8 Byte(s), TotalSize: 8.0 Byte(s)\n",
      " - Constant{-1}, Shape: (), ElemSize: 8 Byte(s), TotalSize: 8.0 Byte(s)\n",
      " - TensorConstant{5000}, Shape: (), ElemSize: 8 Byte(s), TotalSize: 8.0 Byte(s)\n",
      " - Elemwise{minimum,no_inplace}.0, Shape: (), ElemSize: 8 Byte(s), TotalSize: 8.0 Byte(s)\n",
      " - TensorConstant{1}, Shape: (), ElemSize: 8 Byte(s), TotalSize: 8.0 Byte(s)\n",
      " - TensorConstant{(1,) of 0}, Shape: (1,), ElemSize: 8 Byte(s), TotalSize: 8 Byte(s)\n",
      " - TensorConstant{(1, 1, 1) of 0.0}, Shape: (1, 1, 1), ElemSize: 8 Byte(s), TotalSize: 8 Byte(s)\n",
      " - Constant{3}, Shape: (), ElemSize: 8 Byte(s), TotalSize: 8.0 Byte(s)\n",
      " - Constant{2}, Shape: (), ElemSize: 8 Byte(s), TotalSize: 8.0 Byte(s)\n",
      " - TensorConstant{0.0}, Shape: (), ElemSize: 8 Byte(s), TotalSize: 8.0 Byte(s)\n",
      " - Grade of the universal drift, Shared Input, Shape: (1,), ElemSize: 4 Byte(s), TotalSize: 4 Byte(s)\n",
      " - <TensorType(int32, vector)>, Shared Input, Shape: (1,), ElemSize: 4 Byte(s), TotalSize: 4 Byte(s)\n",
      " - <TensorType(int32, vector)>, Shared Input, Shape: (1,), ElemSize: 4 Byte(s), TotalSize: 4 Byte(s)\n",
      " - fault relation matrix, Shared Input, Shape: (1, 1), ElemSize: 4 Byte(s), TotalSize: 4 Byte(s)\n",
      " - Subtensor{:int64:}.0, Shape: (1,), ElemSize: 4 Byte(s), TotalSize: 4 Byte(s)\n",
      " - Subtensor{:int64:}.0, Shape: (1,), ElemSize: 4 Byte(s), TotalSize: 4 Byte(s)\n",
      " - Subtensor{:int64:}.0, Shape: (1,), ElemSize: 4 Byte(s), TotalSize: 4 Byte(s)\n",
      " - Subtensor{:int64:}.0, Shape: (1,), ElemSize: 4 Byte(s), TotalSize: 4 Byte(s)\n",
      " - Subtensor{:int64:}.0, Shape: (1,), ElemSize: 4 Byte(s), TotalSize: 4 Byte(s)\n",
      " - Subtensor{:int64:}.0, Shape: (1,), ElemSize: 4 Byte(s), TotalSize: 4 Byte(s)\n",
      " - Subtensor{:int64:}.0, Shape: (1,), ElemSize: 4 Byte(s), TotalSize: 4 Byte(s)\n",
      " - Subtensor{:int64:}.0, Shape: (1,), ElemSize: 4 Byte(s), TotalSize: 4 Byte(s)\n",
      " - Subtensor{:int64:}.0, Shape: (1,), ElemSize: 4 Byte(s), TotalSize: 4 Byte(s)\n",
      " - Subtensor{:int64:}.0, Shape: (1,), ElemSize: 4 Byte(s), TotalSize: 4 Byte(s)\n",
      " - Subtensor{:int64:}.0, Shape: (1,), ElemSize: 4 Byte(s), TotalSize: 4 Byte(s)\n",
      " - Subtensor{:int64:}.0, Shape: (1,), ElemSize: 4 Byte(s), TotalSize: 4 Byte(s)\n",
      " - Subtensor{:int64:}.0, Shape: (1,), ElemSize: 4 Byte(s), TotalSize: 4 Byte(s)\n",
      " - TensorConstant{(1,) of -1}, Shape: (1,), ElemSize: 4 Byte(s), TotalSize: 4 Byte(s)\n",
      " - <TensorType(bool, vector)>, Shared Input, Shape: (1,), ElemSize: 1 Byte(s), TotalSize: 1 Byte(s)\n",
      " - TensorConstant{(1, 1) of False}, Shape: (1, 1), ElemSize: 1 Byte(s), TotalSize: 1 Byte(s)\n",
      " - Subtensor{:int64:}.0, Shape: (1,), ElemSize: 1 Byte(s), TotalSize: 1 Byte(s)\n",
      " - Subtensor{:int64:}.0, Shape: (1,), ElemSize: 1 Byte(s), TotalSize: 1 Byte(s)\n",
      " - Subtensor{:int64:}.0, Shape: (1,), ElemSize: 1 Byte(s), TotalSize: 1 Byte(s)\n",
      " - TensorConstant{0}, Shape: (), ElemSize: 1 Byte(s), TotalSize: 1.0 Byte(s)\n",
      " - Full block matrix for faults or drift. We take 2 times len points for the faultdrift., Input, Shape: (0, 125002), ElemSize: 8 Byte(s), TotalSize: 0 Byte(s)\n",
      " TotalSize: 18149284.0 Byte(s) 0.017 GB\n",
      " TotalSize inputs: 5148633.0 Byte(s) 0.005 GB\n",
      "\n",
      "\n"
     ]
    }
   ],
   "source": [
    "geo_model.qi.get('surface_points')"
   ]
  },
  {
   "cell_type": "code",
   "execution_count": 16,
   "metadata": {
    "ExecuteTime": {
     "end_time": "2020-04-15T10:42:59.255950Z",
     "start_time": "2020-04-15T10:42:59.240951Z"
    }
   },
   "outputs": [
    {
     "data": {
      "application/vnd.jupyter.widget-view+json": {
       "model_id": "19fb18dabafb48e49fb6b2244757a893",
       "version_major": 2,
       "version_minor": 0
      },
      "text/plain": [
       "QgridWidget(grid_options={'fullWidthRows': True, 'syncColumnCellResize': True, 'forceFitColumns': True, 'defau…"
      ]
     },
     "metadata": {},
     "output_type": "display_data"
    }
   ],
   "source": [
    "geo_model.qi.get('surfaces')"
   ]
  },
  {
   "cell_type": "code",
   "execution_count": 17,
   "metadata": {
    "ExecuteTime": {
     "end_time": "2020-04-15T10:42:59.266952Z",
     "start_time": "2020-04-15T10:42:59.255950Z"
    },
    "scrolled": true
   },
   "outputs": [
    {
     "data": {
      "application/vnd.jupyter.widget-view+json": {
       "model_id": "e50e25f1cf124cb2ac3eb81a8314d5bb",
       "version_major": 2,
       "version_minor": 0
      },
      "text/plain": [
       "QgridWidget(grid_options={'fullWidthRows': True, 'syncColumnCellResize': True, 'forceFitColumns': True, 'defau…"
      ]
     },
     "metadata": {},
     "output_type": "display_data"
    }
   ],
   "source": [
    "geo_model.qi.get('series')"
   ]
  },
  {
   "cell_type": "code",
   "execution_count": 18,
   "metadata": {
    "ExecuteTime": {
     "end_time": "2020-04-15T10:42:59.276950Z",
     "start_time": "2020-04-15T10:42:59.266952Z"
    }
   },
   "outputs": [
    {
     "data": {
      "application/vnd.jupyter.widget-view+json": {
       "model_id": "d47a0d468c0d4c64a14d114bb2fb09ad",
       "version_major": 2,
       "version_minor": 0
      },
      "text/plain": [
       "QgridWidget(grid_options={'fullWidthRows': True, 'syncColumnCellResize': True, 'forceFitColumns': True, 'defau…"
      ]
     },
     "metadata": {},
     "output_type": "display_data"
    },
    {
     "name": "stdout",
     "output_type": "stream",
     "text": [
      "Fault colors changed. If you do not like this behavior, set change_color to False.\n"
     ]
    },
    {
     "name": "stderr",
     "output_type": "stream",
     "text": [
      "i:\\pycharmprojects\\gempy\\gempy\\core\\solution.py:315: UserWarning: Surfaces not computed due to: No surface found at the given iso value.. The surface is: Series: No surface found at the given iso value.; Surface Number:0\n",
      "  '; Surface Number:' + str(s_n))\n"
     ]
    },
    {
     "name": "stdout",
     "output_type": "stream",
     "text": [
      "Fault colors changed. If you do not like this behavior, set change_color to False.\n",
      "Fault colors changed. If you do not like this behavior, set change_color to False.\n"
     ]
    }
   ],
   "source": [
    "geo_model.qi.get('faults')"
   ]
  },
  {
   "cell_type": "code",
   "execution_count": 18,
   "metadata": {
    "ExecuteTime": {
     "end_time": "2020-04-15T10:42:59.288949Z",
     "start_time": "2020-04-15T10:42:59.277951Z"
    }
   },
   "outputs": [
    {
     "data": {
      "application/vnd.jupyter.widget-view+json": {
       "model_id": "6b75710f40034a1bac4db8b7e5ca9e7c",
       "version_major": 2,
       "version_minor": 0
      },
      "text/plain": [
       "QgridWidget(grid_options={'fullWidthRows': True, 'syncColumnCellResize': True, 'forceFitColumns': True, 'defau…"
      ]
     },
     "metadata": {},
     "output_type": "display_data"
    }
   ],
   "source": [
    "geo_model.qi.get('faults_relations')"
   ]
  },
  {
   "cell_type": "code",
   "execution_count": 19,
   "metadata": {},
   "outputs": [
    {
     "data": {
      "text/html": [
       "<table border=\"1\" class=\"dataframe\">\n",
       "  <thead>\n",
       "    <tr style=\"text-align: right;\">\n",
       "      <th></th>\n",
       "      <th>order_series</th>\n",
       "      <th>BottomRelation</th>\n",
       "      <th>isActive</th>\n",
       "      <th>isFault</th>\n",
       "      <th>isFinite</th>\n",
       "    </tr>\n",
       "  </thead>\n",
       "  <tbody>\n",
       "    <tr>\n",
       "      <th>Default series</th>\n",
       "      <td>1</td>\n",
       "      <td>Erosion</td>\n",
       "      <td>True</td>\n",
       "      <td>False</td>\n",
       "      <td>False</td>\n",
       "    </tr>\n",
       "    <tr>\n",
       "      <th>series1</th>\n",
       "      <td>2</td>\n",
       "      <td>Fault</td>\n",
       "      <td>True</td>\n",
       "      <td>True</td>\n",
       "      <td>False</td>\n",
       "    </tr>\n",
       "  </tbody>\n",
       "</table>"
      ],
      "text/plain": [
       "                order_series BottomRelation  isActive  isFault  isFinite\n",
       "Default series             1        Erosion      True    False     False\n",
       "series1                    2          Fault      True     True     False"
      ]
     },
     "execution_count": 19,
     "metadata": {},
     "output_type": "execute_result"
    }
   ],
   "source": [
    "geo_model.stack"
   ]
  },
  {
   "cell_type": "code",
   "execution_count": 22,
   "metadata": {},
   "outputs": [
    {
     "data": {
      "text/plain": [
       "\n",
       "Lithology ids \n",
       "  [0. 0. 0. ... 0. 0. 0.] "
      ]
     },
     "execution_count": 22,
     "metadata": {},
     "output_type": "execute_result"
    }
   ],
   "source": [
    "gp.compute_model(geo_model)"
   ]
  },
  {
   "cell_type": "code",
   "execution_count": 21,
   "metadata": {},
   "outputs": [
    {
     "data": {
      "text/html": [
       "<table border=\"1\" class=\"dataframe\">\n",
       "  <thead>\n",
       "    <tr style=\"text-align: right;\">\n",
       "      <th></th>\n",
       "      <th>X</th>\n",
       "      <th>Y</th>\n",
       "      <th>Z</th>\n",
       "      <th>smooth</th>\n",
       "      <th>surface</th>\n",
       "    </tr>\n",
       "  </thead>\n",
       "  <tbody>\n",
       "    <tr>\n",
       "      <th>0</th>\n",
       "      <td>299.600201</td>\n",
       "      <td>772.615765</td>\n",
       "      <td>-552.816467</td>\n",
       "      <td>0.000001</td>\n",
       "      <td>surface1</td>\n",
       "    </tr>\n",
       "    <tr>\n",
       "      <th>1</th>\n",
       "      <td>582.115016</td>\n",
       "      <td>663.868433</td>\n",
       "      <td>-740.618860</td>\n",
       "      <td>0.000001</td>\n",
       "      <td>surface1</td>\n",
       "    </tr>\n",
       "    <tr>\n",
       "      <th>4</th>\n",
       "      <td>758.235692</td>\n",
       "      <td>11.568112</td>\n",
       "      <td>-629.601263</td>\n",
       "      <td>0.000001</td>\n",
       "      <td>surface1</td>\n",
       "    </tr>\n",
       "    <tr>\n",
       "      <th>5</th>\n",
       "      <td>473.917077</td>\n",
       "      <td>79.266347</td>\n",
       "      <td>-337.568765</td>\n",
       "      <td>0.000001</td>\n",
       "      <td>surface1</td>\n",
       "    </tr>\n",
       "    <tr>\n",
       "      <th>3</th>\n",
       "      <td>77.856401</td>\n",
       "      <td>473.182159</td>\n",
       "      <td>-240.869901</td>\n",
       "      <td>0.000001</td>\n",
       "      <td>surface2</td>\n",
       "    </tr>\n",
       "    <tr>\n",
       "      <th>2</th>\n",
       "      <td>484.397244</td>\n",
       "      <td>447.213061</td>\n",
       "      <td>-335.870346</td>\n",
       "      <td>0.000001</td>\n",
       "      <td>surface2</td>\n",
       "    </tr>\n",
       "  </tbody>\n",
       "</table>"
      ],
      "text/plain": [
       "            X           Y           Z    smooth   surface\n",
       "0  299.600201  772.615765 -552.816467  0.000001  surface1\n",
       "1  582.115016  663.868433 -740.618860  0.000001  surface1\n",
       "4  758.235692   11.568112 -629.601263  0.000001  surface1\n",
       "5  473.917077   79.266347 -337.568765  0.000001  surface1\n",
       "3   77.856401  473.182159 -240.869901  0.000001  surface2\n",
       "2  484.397244  447.213061 -335.870346  0.000001  surface2"
      ]
     },
     "execution_count": 21,
     "metadata": {},
     "output_type": "execute_result"
    },
    {
     "name": "stderr",
     "output_type": "stream",
     "text": [
      "i:\\pycharmprojects\\gempy\\gempy\\core\\solution.py:315: UserWarning: Surfaces not computed due to: No surface found at the given iso value.. The surface is: Series: No surface found at the given iso value.; Surface Number:0\n",
      "  '; Surface Number:' + str(s_n))\n"
     ]
    }
   ],
   "source": [
    "geo_model.surface_points"
   ]
  },
  {
   "cell_type": "markdown",
   "metadata": {},
   "source": [
    "## Finite Fault parameters"
   ]
  },
  {
   "cell_type": "code",
   "execution_count": 19,
   "metadata": {
    "ExecuteTime": {
     "end_time": "2020-04-15T10:42:59.477949Z",
     "start_time": "2020-04-15T10:42:59.288949Z"
    }
   },
   "outputs": [
    {
     "name": "stderr",
     "output_type": "stream",
     "text": [
      "../../..\\gempy\\core\\solution.py:284: UserWarning: Attribute error. Using non masked marching cubesmarching_cubes_lewiner() got an unexpected keyword argument 'mask'.\n",
      "  warnings.warn('Attribute error. Using non masked marching cubes' + str(e)+'.')\n"
     ]
    }
   ],
   "source": [
    "geo_model.interpolator.theano_graph.not_l.set_value(1.)\n",
    "vtk_object.update_model()"
   ]
  },
  {
   "cell_type": "code",
   "execution_count": 20,
   "metadata": {
    "ExecuteTime": {
     "end_time": "2020-04-15T10:42:59.482949Z",
     "start_time": "2020-04-15T10:42:59.478949Z"
    }
   },
   "outputs": [],
   "source": [
    "geo_model.interpolator.theano_graph.ellipse_factor_exponent.set_value(50)"
   ]
  },
  {
   "cell_type": "code",
   "execution_count": 21,
   "metadata": {
    "ExecuteTime": {
     "end_time": "2020-04-15T10:42:59.661951Z",
     "start_time": "2020-04-15T10:42:59.483949Z"
    }
   },
   "outputs": [],
   "source": [
    "vtk_object.update_model()"
   ]
  }
 ],
 "metadata": {
  "celltoolbar": "Tags",
  "hide_input": false,
  "jupytext": {
   "split_at_heading": true
  },
  "kernelspec": {
   "display_name": "Python 3",
   "language": "python",
   "name": "python3"
  },
  "language_info": {
   "codemirror_mode": {
    "name": "ipython",
    "version": 3
   },
   "file_extension": ".py",
   "mimetype": "text/x-python",
   "name": "python",
   "nbconvert_exporter": "python",
   "pygments_lexer": "ipython3",
   "version": "3.7.0"
  },
  "latex_envs": {
   "LaTeX_envs_menu_present": true,
   "autocomplete": true,
   "bibliofile": "biblio.bib",
   "cite_by": "apalike",
   "current_citInitial": 1,
   "eqLabelWithNumbers": true,
   "eqNumInitial": 1,
   "hotkeys": {
    "equation": "Ctrl-E",
    "itemize": "Ctrl-I"
   },
   "labels_anchors": false,
   "latex_user_defs": false,
   "report_style_numbering": false,
   "user_envs_cfg": false
  },
  "toc": {
   "base_numbering": 1,
   "nav_menu": {
    "height": "11px",
    "width": "251px"
   },
   "number_sections": true,
   "sideBar": true,
   "skip_h1_title": false,
   "title_cell": "Table of Contents",
   "title_sidebar": "Contents",
   "toc_cell": false,
   "toc_position": {},
   "toc_section_display": "block",
   "toc_window_display": false
  }
 },
 "nbformat": 4,
 "nbformat_minor": 2
}
